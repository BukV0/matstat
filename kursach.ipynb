{
 "cells": [
  {
   "cell_type": "markdown",
   "id": "bf02c8e4",
   "metadata": {},
   "source": [
    "# Домашнее задание 1"
   ]
  },
  {
   "cell_type": "markdown",
   "id": "73990b34",
   "metadata": {},
   "source": [
    "## Дискретное распределение"
   ]
  },
  {
   "cell_type": "markdown",
   "id": "533753c8",
   "metadata": {},
   "source": [
    "### Закон распределения\n",
    "$$ P(x)=\\binom{n}{x}\\theta^{x}(1-\\theta)^{(n-x)}, x \\in \\left\\{0,1,...,n\\right\\}, n \\in \\mathbb{N}, 0<\\theta<1\\ $$\n",
    "### Характеристика\n",
    "#### Функция распределения\n",
    "Функция распределения случайно величины $\\xi(\\omega)$ - это числовая функция, которая имеет вид:\n",
    "$$F_{\\xi}(x) = P(\\omega : \\xi(\\omega) \\leq x) = P(\\xi \\leq x) $$\n",
    "Для биномиального распределения:\n",
    "$$F_{\\xi}(x) = P(\\xi \\leq x) = \\displaystyle\\sum_{i = 0}^{x} \\binom{n}{i}\\theta^{i}(1-\\theta)^{(n-i)}, i \\in \\left\\{0,1,...,n\\right\\}, n \\in \\mathbb{N}, 0<\\theta<1, x \\in \\mathbb{N}$$\n",
    "#### Математическое ожидание\n",
    "Математическое ожидание случайно велечины $\\xi$ (средним значением) называется интеграл Лебега от нее мере P\n",
    "$$M\\xi=E\\xi= \\int\\limits_{\\Omega} \\xi P\\,( d\\omega)$$\n",
    "Математическое ожидание для биномиального распределения:\n",
    "$$i \\binom{n}{i} = i C_{n}^{i}=n C_{n-1}^{i-1} \\\\ M \\xi = \\displaystyle\\sum_{i = 0}^{n} i \\cdot \\binom{n}{i}\\cdot\\theta^{i}\\cdot(1-\\theta)^{(n-i)} = n \\cdot \\displaystyle\\sum_{i = 0}^{n} \\binom{n-1}{i-1} \\cdot \\theta \\cdot \\theta^{i-1} \\cdot (1-\\theta)^{(n-i)} = \\\\ = n \\cdot \\theta \\cdot (1-\\theta)^{(n-1)} \\cdot \\displaystyle\\sum_{i = 0}^{n} \\binom{n-1}{i-1} \\cdot \\bigg( \\frac{\\theta}{1-\\theta} \\bigg) ^{i-1} = n \\cdot \\theta \\cdot (1-\\theta)^{(n-1)} \\cdot  \\bigg( \\frac{\\theta}{1-\\theta} \\bigg) ^{n-1} = \\\\\n",
    " = n \\cdot \\theta \\cdot (1-\\theta+\\theta)^{(n-1)} = n\\cdot\\theta $$\n",
    " #### Дисперсия\n",
    " Центральный момент второго порядка называется дисперсией и обозначается $D\\xi$ или $\\sigma^2(\\xi)$:\n",
    " $$D\\xi=\\sigma^2(\\xi)=M(\\xi-M\\xi)^2$$\n",
    " Дисперсия для биномиального распределения:\n",
    " $$D\\xi = M\\xi^2-(M\\xi)^2 \\\\ M\\xi^2 = \\displaystyle\\sum_{i=0}^{n}i^2 \\binom{n}{i} \\theta^{i} (1-\\theta)^{(n-i)} = n(1-\\theta)^n \\displaystyle\\sum_{i=1}^{n}i \\binom{n-1}{i-1} \\bigg( \\frac{\\theta}{1-\\theta} \\bigg) ^{i} = \\\\ =n(1-\\theta)^{(n-1)} \\theta \\displaystyle\\sum_{i=1}^{n} (i-1+1)\\binom{n-1}{i-1} \\bigg( \\frac{\\theta}{1-\\theta} \\bigg) ^{i-1} = \\\\ =n \\theta (1-\\theta)^{(n-1)} \\bigg( \\displaystyle\\sum_{i=1}^{n} (i-1)\\binom{n-1}{i-1} \\bigg( \\frac{\\theta}{1-\\theta} \\bigg) ^{i-1} + \\displaystyle\\sum_{i=1}^{n} \\binom{n-1}{i-1} \\bigg( \\frac{\\theta}{1-\\theta} \\bigg) ^{i-1}\\bigg)= \\\\ = n \\theta (1-\\theta)^{(n-1)} \\bigg( (n-1) \\bigg(\\frac{\\theta}{1-\\theta}\\bigg) \\displaystyle\\sum_{i=1}^{n} \\binom{n-2}{i-2} \\bigg( \\frac{\\theta}{1-\\theta} \\bigg) ^{i-2} +  \\displaystyle\\sum_{i=1}^{n} \\binom{n-1}{i-1} \\bigg( \\frac{\\theta}{1-\\theta} \\bigg) ^{i-1}\\bigg) = \\\\ =n \\theta (1-\\theta)^{(n-1)} \\bigg( (n-1) \\bigg( \\frac{\\theta}{1-\\theta} \\bigg) \\cdot \\bigg( 1 - \\frac{\\theta}{1-\\theta} \\bigg) ^{(n-2)} + \\bigg( 1 + \\frac{\\theta}{1-\\theta} \\bigg)^{(n-1)} \\bigg) = \\\\ =n(n-1)\\theta^2+n\\theta=n^2\\theta^2-n\\theta^2+n\\theta \\\\ (M\\xi)^2=(n\\theta)^2=n^2\\theta^2 \\\\ D\\xi = n^2\\theta^2 +n\\theta -n^2\\theta^2=n\\theta-n\\theta^2=n\\theta(1-\\theta) \\\\ $$\n",
    " #### Квантиль распределения уровня $\\gamma$\n",
    " Квантиль распределения уровня $\\gamma$ для биномиального распределения:\n",
    " $$F(x_{\\gamma}) = \\gamma , 0<\\gamma < 1 \\\\ \\displaystyle\\sum_{i=0}^{x_{\\gamma}} \\binom{n}{i} \\theta^{i} (1-\\theta)^{(n-i)} = \\gamma$$\n",
    " Можно заметить, что выразить $X$ нельзя, следовательно квантиль найти нельзя. \n",
    " "
   ]
  },
  {
   "cell_type": "markdown",
   "id": "c197e444",
   "metadata": {},
   "source": [
    "### Поиск событий\n",
    " #### Пример интерпретации для биномиального распределения:\n",
    "  Рассмотрим следующую ситуацию. В онлайн магазине один и тот же товар продают за примерно одинаковую ценну три продавца. У первого рейтинг 100$\\%$ и 10 оценок. У второго 96$\\%$ и 50 оценок, а у третьего 93$\\%$ и 200 соответственно. Вопрос кого же из них выбрать разобран в статье PHD по математике\n",
    "    Джона Д.Кука \" Байесовский анализ продавцов на Амазон\". В описанном им процессе выбора наиболее надежного продавца используется биномиальное распределение.В решении данного вопроса  оно позволяет рассчитать веростность вероятности.\n",
    "    Предположим, что у каждого продавца есть свой \"Коэффициент успеха\", определяющий веростность предоставления качественнорй услуги. В рассматриваемой ситуаци этот коэффициент нам неизвестны, но допустим  у второго он известен и равен 0,95. Будем брать случайные значения от 0 до 1 и считать значения меньше 0,95 за хороший отзыв, а большие за плохой. Тогда рассмотрим вероятность, того, что у продовца 48 хороших и 2 плохих отзыва.\n",
    "    $$ \\binom{50}{48} \\cdot (0.95)^{48} \\cdot (1-0.95)^2\\ $$\n",
    "    $\\binom{50}{48}$ - Это общие число способов размещения 48 хороших отзывов в 50 ячейках.Его мы умножаем на вероятность любого из этих сочитаний. $(0.95)^{48}$ - вероятность хорошего отзыва в степени количества хороших отзхывов. Аналогично для плохих - $(1-0.95)^2$. Перемножаем \n",
    "    все эти числа вместе и получаем соответствующие значения вероятности. Мы можем менять все эти коэффициенты и в итоге получаем формулу биномиального распределения.\n",
    "   ### Описание способа моделирования выбранных случайных величин\n",
    "   При наличии источника непрерывных случайных величин, распределённых равномерно на отрезке [0,1], выборка объёма $x$ из биномиального распределения с характеристиками $n$ и $\\theta$ может быть получена следующим образом:\n",
    "Получить $n$ значений равномерной случайной величины $\\{a_1,...,a_n\\}$.\n",
    "Сравнить каждое из полученных значений с $\\theta$: количество случаев, в которых $a_i<\\theta$ будет иметь биномиальное распределение.\n",
    "Повторить эту процедуру ещё $x-1$ раз.\n",
    "получается следующий алгоритм:"
   ]
  },
  {
   "cell_type": "code",
   "execution_count": 248,
   "id": "ba947d97",
   "metadata": {},
   "outputs": [
    {
     "data": {
      "text/plain": [
       "[189, 188, 193, 187, 190, 189, 192, 193, 184, 191, 194, 192, 195, 194, 187]"
      ]
     },
     "execution_count": 248,
     "metadata": {},
     "output_type": "execute_result"
    }
   ],
   "source": [
    "import random\n",
    "import math\n",
    "def binomial_destr_r(n , t, size):\n",
    "    sample = []\n",
    "    for i in range(size):\n",
    "        k = 0\n",
    "        for j in range(n):\n",
    "            if random.random() < t:\n",
    "                k =k + 1\n",
    "        sample.append(k)\n",
    "    return sample\n"
   ]
  },
  {
   "cell_type": "markdown",
   "id": "c4c1662a",
   "metadata": {},
   "source": [
    "## Непрерывное распределение"
   ]
  },
  {
   "cell_type": "markdown",
   "id": "bb3434fa",
   "metadata": {},
   "source": [
    "Распределение Эрланга. Распределение Эрланга является частным случаем гамма-арспределением c целом параметром $n = \\alpha$\n",
    "### Плотность распределения\n",
    "$$f(x) = \\frac{\\theta^{m}}{(m-1)!} \\cdot x^{(m-1)}\\cdot e^{-\\theta x}$$\n",
    "### Характеристика\n",
    "#### Функция распределения\n",
    "$F(x)$ для $x \\leq 0$ очевидно равна $0$.\n",
    "\n",
    "Для $x > 0$\n",
    "$$\n",
    "F(x) =\n",
    "\\int_{0}^{x} \\frac{\\theta^m}{(m-1)!}t^{m-1}e^{-\\theta t} dt =\n",
    "[y = \\theta t, dy = \\theta dt] =\n",
    "\\int_{0}^{\\theta x} \\frac{1}{(m-1)!}y^{m-1}e^{-y} dy =\n",
    "$$ $$ =\n",
    "\\int_{0}^{\\theta x} \\frac{1}{(m-1)!}y^{m-1}e^{-y} dy\n",
    "$$\n",
    "\n",
    "Найдем первообразную\n",
    "$$\n",
    "\\int \\frac{1}{(m-1)!} y^{m-1}e^{-y} dy = \n",
    "-\\frac{y^{m-1}e^{-y}}{(m-1)!} + \\int \\frac{1}{(m-2)!} y^{m-2}de^{-y} = \n",
    "$$ $$ =\n",
    "-\\frac{y^{m-1}e^{-y}}{(m-1)!} - \\frac{y^{m-2}e^{-y}}{(m-2)!} + \\int \\frac{1}{(m-2)!} y^{m-2}de^{-y} = \n",
    "$$ $$\n",
    "\\dots\n",
    "$$ $$ =\n",
    "-e^{-y} \\sum_{k=0}^{m-1} \\frac{y^k}{k!}\n",
    "$$\n",
    "\n",
    "Итого, получаем\n",
    "$$\n",
    "F(x) =\n",
    "\\begin{cases}\n",
    "1-e^{-\\theta x} \\sum_{k=0}^{m-1} \\frac{(\\theta x)^k}{k!} & x > 0 \\\\\n",
    "0 & x \\leq 0\n",
    "\\end{cases}\n",
    "$$\n",
    "#### Математическое ожидание\n",
    "$$\n",
    "M\\xi^2 = \n",
    "\\int_{0}^\\infty x\\frac{\\theta^m}{(m-1)!}x^{m-1}e^{-\\theta x} dx =\n",
    "[y = \\theta x, dy = \\theta dx] =\n",
    "$$ $$ =\n",
    "\\frac{1}{\\theta} \\int_{0}^\\infty \\frac{1}{(m-1)!}y^{m}e^{-y} dx =\n",
    "\\frac{m!}{\\theta (m-1)!} = \\frac{m}{\\theta}\n",
    "$$\n",
    "#### Дисперсия\n",
    "$$\n",
    "M\\xi^2 = \n",
    "\\int_{0}^\\infty x^2\\frac{\\theta^m}{(m-1)!}x^{m-1}e^{-\\theta x} dx =\n",
    "[y = \\theta x, dy = \\theta dx] =\n",
    "$$ $$ =\n",
    "\\frac{1}{\\theta^2} \\int_{0}^\\infty \\frac{1}{(m-1)!}y^{m+1}e^{-y} dx =\n",
    "\\frac{(m+1)!}{\\theta^2 (m-1)!} = \\frac{(m+1)m}{\\theta^2}\n",
    "$$ $$\n",
    "D\\xi = M\\xi^2 - (M\\xi)^2 = \\frac{m^2 + m}{\\theta^2} - \\frac{m^2}{\\theta^2} = \\frac{m}{\\theta^2}\n",
    "$$\n",
    "#### Квантиль уровень $\\gamma$\n",
    "Квантиль уровня $\\gamma$ или $\\gamma$-квантиль непрерывной случайно велечины $\\xi$ с функцией распределения $F(x)$ называется такое вохможное значение $x_{\\gamma}$ этой случайно велечины, для которого вероятность события $\\xi < \\gamma$ равна заданной величине $\\gamma : \\gamma(\\xi < x_{\\gamma}) = \\gamma, 0 < \\gamma < 1$ , из определения следует, что $x_{\\gamma}$  есть решение, предположительно единственное, уровнения $F(x_{\\gamma}) = \\gamma, 0 < \\gamma < 1$ \n",
    "$$1-e^{-\\theta x_{\\gamma}} \\sum_{k=0}^{m-1} \\frac{(\\theta x_{\\gamma})^k}{k!} = \\gamma \\Rightarrow e^{-\\theta x_{\\gamma}} \\sum_{k=0}^{m-1} \\frac{(\\theta x_{\\gamma})^k}{k!} = 1 - \\gamma \\Rightarrow ln \\bigg(e^{-\\theta x_{\\gamma}} \\sum_{k=0}^{m-1} \\frac{(\\theta x_{\\gamma})^k}{k!}\\bigg) = ln\\bigg(1 - \\gamma\\bigg) \\\\ ln(e^{-\\theta x_{\\gamma}}) + ln\\bigg(\\sum_{k=0}^{m-1} \\frac{(\\theta x_{\\gamma})^k}{k!}\\bigg) = ln\\bigg(1 - \\gamma\\bigg) \\Rightarrow ln(e^{-\\theta x_{\\gamma}}) = ln\\bigg(1 - \\gamma\\bigg) - ln\\bigg(\\sum_{k=0}^{m-1} \\frac{(\\theta x_{\\gamma})^k}{k!}\\bigg) \\\\ -\\theta x_{\\gamma} = ln(1-\\gamma)- ln\\bigg(\\sum_{k=0}^{m-1} \\frac{(\\theta x_{\\gamma})^k}{k!}\\bigg) \\\\ -\\theta x_{\\gamma} = ln\\bigg(\\frac{1-\\gamma}{\\sum_{k=0}^{m-1} \\frac{(\\theta x_{\\gamma})^k}{k!}}\\bigg)  \\\\ x_{\\gamma} = - \\frac{ln\\bigg(\\frac{1-\\gamma}{\\sum_{k=0}^{m-1} \\frac{(\\theta x_{\\gamma})^k}{k!}}\\bigg)}{\\theta}$$\n"
   ]
  },
  {
   "cell_type": "markdown",
   "id": "1c069576",
   "metadata": {},
   "source": [
    "#### Поиск событий\n",
    "Пример события:\n",
    "Например в торговом центре есть магазин \"A\", который является самым посещаемым. Также существует закономерность, что каждый следующий по песещаемости магазин имеет в два раза меньше поситителей, тогда количество посещений за день мы можем описать с помощью распределения Эрланга.  \n",
    "#### Моделирование\n",
    "Пусть $F(x)$ функция распределения некоторой случайной величины $\\xi$.Предположим, что она имеет обратную. Последнее имеет место не всегда, но для рассматриваемого распределения это так, а в общем случае берётся т.н. обобщённая обратная функция. Если $\\eta$ равномерное распределенная на (0,1) случайная величина, то $F^{-1}(\\eta)$\n",
    " будет иметь такое же распределенние как и $\\xi$.\n",
    " Но так ка выражение для обратной функции не имеет не имеет подходящего явного вида. Тогда воспользуемся способом генерации случайно велечины при котором Берутся n независимых равномерно распределённых на (0;1) случайных величин $r1,....,r_{n}$ и далее рассматривается величина $X = \\frac{1}{b} \\bigg(\\sum_{i=1}^{n}\\ln r_{i} \\bigg)$, где μ-параметр. Получается распределение Эрланга с параметрами n, b. "
   ]
  },
  {
   "cell_type": "code",
   "execution_count": 241,
   "id": "f8b1e526",
   "metadata": {},
   "outputs": [],
   "source": [
    "def erlang_dis(b,a):\n",
    "    r = 1\n",
    "    for i in range(a):\n",
    "        r = r * random.random()\n",
    "    return -1*b*math.log(r)"
   ]
  },
  {
   "cell_type": "markdown",
   "id": "90859c86",
   "metadata": {},
   "source": [
    "# Домашнее задание 2\n",
    "## Дискретное распределение"
   ]
  },
  {
   "cell_type": "code",
   "execution_count": 254,
   "id": "42603f63",
   "metadata": {},
   "outputs": [],
   "source": [
    "import random\n",
    "import numpy as np\n",
    "import matplotlib.pyplot as plt\n",
    "import scipy.stats as sts\n",
    "import math\n",
    "from collections import Counter\n",
    "%matplotlib inline"
   ]
  },
  {
   "cell_type": "code",
   "execution_count": 247,
   "id": "f636ea24",
   "metadata": {},
   "outputs": [],
   "source": [
    "n = 61\n",
    "theta = 0.6"
   ]
  },
  {
   "cell_type": "code",
   "execution_count": 252,
   "id": "d9f8e939",
   "metadata": {},
   "outputs": [],
   "source": [
    "SampleBiom = [ ]\n",
    "for i in [5, 10, 100, 200, 400, 600, 800, 1000]:\n",
    "    SampleBiom.append(binomial_destr_r(n,t,i))\n",
    "    "
   ]
  },
  {
   "cell_type": "markdown",
   "id": "2e8f1c8e",
   "metadata": {},
   "source": [
    "Зададим эмпирическую функцию, котороя возвращает на основе выборке и числа t, долю значений в выборке меньших числа t\n",
    "$$F_{n}(t)=\\frac{\\sum_{i=1}^{n}I(x_{i} \\leq t)}{n}$$"
   ]
  },
  {
   "cell_type": "code",
   "execution_count": 253,
   "id": "2dd36f57",
   "metadata": {},
   "outputs": [],
   "source": [
    "def emperfunction(sample, t):\n",
    "    f = sum([int(i <= t) for i in sample])/len(sample)\n",
    "    return f"
   ]
  },
  {
   "cell_type": "code",
   "execution_count": 413,
   "id": "b0fb1b80",
   "metadata": {},
   "outputs": [
    {
     "data": {
      "text/plain": [
       "[38, 34, 34, 41, 43]"
      ]
     },
     "execution_count": 413,
     "metadata": {},
     "output_type": "execute_result"
    }
   ],
   "source": [
    "SampleBiom[0]"
   ]
  },
  {
   "cell_type": "markdown",
   "id": "82c30a0c",
   "metadata": {},
   "source": [
    "Для построения функции распределения воспользуемся готовым решением из scipy"
   ]
  },
  {
   "cell_type": "code",
   "execution_count": 423,
   "id": "46c29e5e",
   "metadata": {},
   "outputs": [
    {
     "data": {
      "image/png": "[encoded data removed]",
      "text/plain": [
       "<Figure size 432x288 with 1 Axes>"
      ]
     },
     "metadata": {
      "needs_background": "light"
     },
     "output_type": "display_data"
    }
   ],
   "source": [
    "x = np.arange(0,n,1)\n",
    "plt.plot(x,[sts.binom.cdf(t, n, theta) for t in x], label = \"Теоретическая ф.в.\")\n",
    "for i in range(len(SampleBiom)):\n",
    "    plt.plot(x,[emperfunction(SampleBiom[i], t) for t in x],label = 'Выборка размера %i' %len(SampleBiom[i]))\n",
    "plt.legend()\n",
    "plt.show()"
   ]
  },
  {
   "cell_type": "markdown",
   "id": "b0972db4",
   "metadata": {},
   "source": [
    "Далее вычислим $D_{m,n}=\\sqrt{\\frac{mn}{m+n}}\\sup_{x\\in\\mathbb{R}}{|\\mathcal{F}_n(x)-\\mathcal{F}_m(x)|}$ для всех выборок."
   ]
  },
  {
   "cell_type": "code",
   "execution_count": 294,
   "id": "f7e06443",
   "metadata": {},
   "outputs": [],
   "source": [
    "def d_func(sel_a, sel_b):\n",
    "    t = np.linspace(0, 100, 1000)\n",
    "    diff = []\n",
    "    for i in t:\n",
    "        diff.append(abs(emperfunction(sel_a, i) - emperfunction(sel_b, i)))\n",
    "    return math.sqrt(len(sel_a) * len(sel_b) / (len(sel_a) + len(sel_b))) * max(diff)"
   ]
  },
  {
   "cell_type": "code",
   "execution_count": 295,
   "id": "fc21ae09",
   "metadata": {},
   "outputs": [
    {
     "name": "stdout",
     "output_type": "stream",
     "text": [
      "D ( 5 , 10 )\n",
      "1.0954451150103321\n",
      "D ( 5 , 100 )\n",
      "0.5455447255899809\n",
      "D ( 5 , 200 )\n",
      "0.47485556212184005\n",
      "D ( 5 , 400 )\n",
      "0.5500000000000002\n",
      "D ( 5 , 600 )\n",
      "0.5492795180786522\n",
      "D ( 5 , 800 )\n",
      "0.5294143019465852\n",
      "D ( 5 , 1000 )\n",
      "0.5732381617179296\n",
      "D ( 10 , 5 )\n",
      "1.0954451150103321\n",
      "D ( 10 , 100 )\n",
      "1.5980101262621473\n",
      "D ( 10 , 200 )\n",
      "1.604754839605756\n",
      "D ( 10 , 400 )\n",
      "1.5617376188860606\n",
      "D ( 10 , 600 )\n",
      "1.6517584602262405\n",
      "D ( 10 , 800 )\n",
      "1.6263455967290592\n",
      "D ( 10 , 1000 )\n",
      "1.5827316904517947\n",
      "D ( 100 , 5 )\n",
      "0.5455447255899809\n",
      "D ( 100 , 10 )\n",
      "1.5980101262621473\n",
      "D ( 100 , 200 )\n",
      "0.6940220937885668\n",
      "D ( 100 , 400 )\n",
      "0.44721359549995787\n",
      "D ( 100 , 600 )\n",
      "0.21602468994692853\n",
      "D ( 100 , 800 )\n",
      "0.3771236166328246\n",
      "D ( 100 , 1000 )\n",
      "0.29557340266613386\n",
      "D ( 200 , 5 )\n",
      "0.47485556212184005\n",
      "D ( 200 , 10 )\n",
      "1.604754839605756\n",
      "D ( 200 , 100 )\n",
      "0.6940220937885668\n",
      "D ( 200 , 400 )\n",
      "0.9814954576223635\n",
      "D ( 200 , 600 )\n",
      "0.7552593373581463\n",
      "D ( 200 , 800 )\n",
      "0.5692099788303088\n",
      "D ( 200 , 1000 )\n",
      "1.265174559761089\n",
      "D ( 400 , 5 )\n",
      "0.5500000000000002\n",
      "D ( 400 , 10 )\n",
      "1.5617376188860606\n",
      "D ( 400 , 100 )\n",
      "0.44721359549995787\n",
      "D ( 400 , 200 )\n",
      "0.9814954576223635\n",
      "D ( 400 , 600 )\n",
      "0.4260281680828158\n",
      "D ( 400 , 800 )\n",
      "0.6531972647421797\n",
      "D ( 400 , 1000 )\n",
      "0.7944449994448054\n",
      "D ( 600 , 5 )\n",
      "0.5492795180786522\n",
      "D ( 600 , 10 )\n",
      "1.6517584602262405\n",
      "D ( 600 , 100 )\n",
      "0.21602468994692853\n",
      "D ( 600 , 200 )\n",
      "0.7552593373581463\n",
      "D ( 600 , 400 )\n",
      "0.4260281680828158\n",
      "D ( 600 , 800 )\n",
      "0.33175220241849707\n",
      "D ( 600 , 1000 )\n",
      "0.703591974561014\n",
      "D ( 800 , 5 )\n",
      "0.5294143019465852\n",
      "D ( 800 , 10 )\n",
      "1.6263455967290592\n",
      "D ( 800 , 100 )\n",
      "0.3771236166328246\n",
      "D ( 800 , 200 )\n",
      "0.5692099788303088\n",
      "D ( 800 , 400 )\n",
      "0.6531972647421797\n",
      "D ( 800 , 600 )\n",
      "0.33175220241849707\n",
      "D ( 800 , 1000 )\n",
      "1.117338106592826\n",
      "D ( 1000 , 5 )\n",
      "0.5732381617179296\n",
      "D ( 1000 , 10 )\n",
      "1.5827316904517947\n",
      "D ( 1000 , 100 )\n",
      "0.29557340266613386\n",
      "D ( 1000 , 200 )\n",
      "1.265174559761089\n",
      "D ( 1000 , 400 )\n",
      "0.7944449994448054\n",
      "D ( 1000 , 600 )\n",
      "0.703591974561014\n",
      "D ( 1000 , 800 )\n",
      "1.117338106592826\n"
     ]
    }
   ],
   "source": [
    "text_bl = [5, 10, 100, 200, 400, 600, 800, 1000]\n",
    "for i in range(len(SampleBiom)):\n",
    "    for j in range(len(SampleBiom)):\n",
    "        if i != j:\n",
    "            print('D', '(',text_bl[i],',',text_bl[j],')')\n",
    "            print(d_func(SampleBiom[i],SampleBiom[j]))\n",
    "    "
   ]
  },
  {
   "cell_type": "markdown",
   "id": "79c2c459",
   "metadata": {},
   "source": [
    "### Гистограммы и полигон частот"
   ]
  },
  {
   "cell_type": "code",
   "execution_count": 341,
   "id": "5feb01aa",
   "metadata": {},
   "outputs": [],
   "source": [
    "def func_rasp_binom(x,n,th):\n",
    "    rer = []\n",
    "    for i in x:\n",
    "        #print(i)\n",
    "        i = int(round(i))\n",
    "        bn = math.factorial(n)/(math.factorial(n-i)*math.factorial(i))\n",
    "        rer.append(bn*(th**i)*((1-th)**(n-i)))\n",
    "    #print(rer)\n",
    "    return rer"
   ]
  },
  {
   "cell_type": "code",
   "execution_count": 342,
   "id": "46bf207b",
   "metadata": {},
   "outputs": [],
   "source": [
    "k = 0\n",
    "for j in [5, 10, 100, 200, 400, 600, 800, 1000]:\n",
    "    SampleBiomFrequencies = []\n",
    "    for i in range(max(SampleBiom[k])):\n",
    "            SampleBiomFrequencies.append(SampleBiom[k].count(i) / j)\n",
    "    k=k+1"
   ]
  },
  {
   "cell_type": "code",
   "execution_count": 348,
   "id": "65004565",
   "metadata": {},
   "outputs": [
    {
     "data": {
      "image/png": "[encoded data removed]",
      "text/plain": [
       "<Figure size 432x288 with 1 Axes>"
      ]
     },
     "metadata": {
      "needs_background": "light"
     },
     "output_type": "display_data"
    },
    {
     "data": {
      "image/png": "[encoded data removed]",
      "text/plain": [
       "<Figure size 432x288 with 1 Axes>"
      ]
     },
     "metadata": {
      "needs_background": "light"
     },
     "output_type": "display_data"
    },
    {
     "data": {
      "image/png": "[encoded data removed]",
      "text/plain": [
       "<Figure size 432x288 with 1 Axes>"
      ]
     },
     "metadata": {
      "needs_background": "light"
     },
     "output_type": "display_data"
    },
    {
     "data": {
      "image/png": "[encoded data removed]",
      "text/plain": [
       "<Figure size 432x288 with 1 Axes>"
      ]
     },
     "metadata": {
      "needs_background": "light"
     },
     "output_type": "display_data"
    },
    {
     "data": {
      "image/png": "[encoded data removed]",
      "text/plain": [
       "<Figure size 432x288 with 1 Axes>"
      ]
     },
     "metadata": {
      "needs_background": "light"
     },
     "output_type": "display_data"
    },
    {
     "data": {
      "image/png": "[encoded data removed]",
      "text/plain": [
       "<Figure size 432x288 with 1 Axes>"
      ]
     },
     "metadata": {
      "needs_background": "light"
     },
     "output_type": "display_data"
    },
    {
     "data": {
      "image/png": "[encoded data removed]",
      "text/plain": [
       "<Figure size 432x288 with 1 Axes>"
      ]
     },
     "metadata": {
      "needs_background": "light"
     },
     "output_type": "display_data"
    },
    {
     "data": {
      "image/png": "[encoded data removed]",
      "text/plain": [
       "<Figure size 432x288 with 1 Axes>"
      ]
     },
     "metadata": {
      "needs_background": "light"
     },
     "output_type": "display_data"
    }
   ],
   "source": [
    "x = np.arange(0,n,1)\n",
    "y_f = func_rasp_binom(x,n,theta)\n",
    "for i in range(len(SampleBiom)):\n",
    "    plt.plot(x,y_f, label = \"Функция распределения\")\n",
    "    plt.plot(SampleBiomFrequencies, label = \"Полигон частот\")\n",
    "    plt.hist(SampleBiom[i],density=True, label = \"частоты\")\n",
    "    plt.plot([n*theta,n*theta],[0,0.14], label = \"Математическое ожидание\")\n",
    "    plt.legend()\n",
    "    plt.show()"
   ]
  },
  {
   "cell_type": "markdown",
   "id": "37b7b66e",
   "metadata": {},
   "source": [
    "Из графиков можно сделать вывод, что они показывают Неравенство Чебышёва, которое в свою очередь утверждает, что случайная величина в основном принимает значения, близкие к математическому ожиданую. "
   ]
  },
  {
   "cell_type": "markdown",
   "id": "64f52fb5",
   "metadata": {},
   "source": [
    "### Вычисление выборочных моментов"
   ]
  },
  {
   "cell_type": "markdown",
   "id": "27401093",
   "metadata": {},
   "source": [
    "#### Выборочное среднее обладает свойствами несмещенности и состоятельности\n",
    "#### Выборочная дисперсия обладает свойстами состоятельности"
   ]
  },
  {
   "cell_type": "markdown",
   "id": "81528e0a",
   "metadata": {},
   "source": [
    "Для вычисления выборочных моментов воспользуемся функциями из numpy "
   ]
  },
  {
   "cell_type": "code",
   "execution_count": 349,
   "id": "f88581cf",
   "metadata": {},
   "outputs": [
    {
     "name": "stdout",
     "output_type": "stream",
     "text": [
      "Выборка размером 5\n",
      "Выборочное среднее: 38.0\n",
      "Выборочная дисперсия: 13.2\n",
      "Разница выборочного среднего и математического ожидания 1.3999999999999986\n",
      "Разница выборочной дисперсии и теоретической дисперсии 1.4400000000000013 \n",
      "\n",
      "Выборка размером 10\n",
      "Выборочное среднее: 33.2\n",
      "Выборочная дисперсия: 21.359999999999996\n",
      "Разница выборочного среднего и математического ожидания 3.3999999999999986\n",
      "Разница выборочной дисперсии и теоретической дисперсии 6.719999999999995 \n",
      "\n",
      "Выборка размером 100\n",
      "Выборочное среднее: 36.68\n",
      "Выборочная дисперсия: 12.8176\n",
      "Разница выборочного среднего и математического ожидания 0.0799999999999983\n",
      "Разница выборочной дисперсии и теоретической дисперсии 1.8224 \n",
      "\n",
      "Выборка размером 200\n",
      "Выборочное среднее: 36.94\n",
      "Выборочная дисперсия: 14.746400000000003\n",
      "Разница выборочного среднего и математического ожидания 0.3399999999999963\n",
      "Разница выборочной дисперсии и теоретической дисперсии 0.10640000000000249 \n",
      "\n",
      "Выборка размером 400\n",
      "Выборочное среднее: 36.475\n",
      "Выборочная дисперсия: 14.124375\n",
      "Разница выборочного среднего и математического ожидания 0.125\n",
      "Разница выборочной дисперсии и теоретической дисперсии 0.515625 \n",
      "\n",
      "Выборка размером 600\n",
      "Выборочное среднее: 36.66166666666667\n",
      "Выборочная дисперсия: 14.043863888888888\n",
      "Разница выборочного среднего и математического ожидания 0.061666666666667425\n",
      "Разница выборочной дисперсии и теоретической дисперсии 0.5961361111111128 \n",
      "\n",
      "Выборка размером 800\n",
      "Выборочное среднее: 36.7125\n",
      "Выборочная дисперсия: 14.44484375\n",
      "Разница выборочного среднего и математического ожидания 0.11249999999999716\n",
      "Разница выборочной дисперсии и теоретической дисперсии 0.19515625000000014 \n",
      "\n",
      "Выборка размером 1000\n",
      "Выборочное среднее: 36.503\n",
      "Выборочная дисперсия: 13.799990999999999\n",
      "Разница выборочного среднего и математического ожидания 0.09700000000000131\n",
      "Разница выборочной дисперсии и теоретической дисперсии 0.840009000000002 \n",
      "\n"
     ]
    }
   ],
   "source": [
    "mat_ozh_form = n*theta\n",
    "disper_form = n*theta*(1-theta)\n",
    "k = 0\n",
    "for j in [5, 10, 100, 200, 400, 600, 800, 1000]:\n",
    "    mean_f=np.mean(SampleBiom[k])\n",
    "    ver_f =np.var(SampleBiom[k])\n",
    "    print('Выборка размером %i' %j)\n",
    "    print('Выборочное среднее:', mean_f)\n",
    "    print('Выборочная дисперсия:', ver_f)\n",
    "    print('Разница выборочного среднего и математического ожидания', abs(mean_f - mat_ozh_form))\n",
    "    print('Разница выборочной дисперсии и теоретической дисперсии', abs(ver_f - disper_form), '\\n')\n",
    "    k += 1"
   ]
  },
  {
   "cell_type": "markdown",
   "id": "a556ab0d",
   "metadata": {},
   "source": [
    "# Непрерывное распределение"
   ]
  },
  {
   "cell_type": "code",
   "execution_count": 359,
   "id": "f30abce4",
   "metadata": {},
   "outputs": [],
   "source": [
    "def erlang_dis(b,a):\n",
    "    r = 1\n",
    "    for i in range(a):\n",
    "        r = r * random.random()\n",
    "    return -1*b*math.log(r)"
   ]
  },
  {
   "cell_type": "code",
   "execution_count": 360,
   "id": "277e112c",
   "metadata": {},
   "outputs": [],
   "source": [
    "erl_thetae = 2.5\n",
    "erl_m = 6\n",
    "b = 1/erl_thetae\n",
    "a = erl_m\n",
    "SampleErlang = [\n",
    "    [], [], [], [], [], [], [], []\n",
    "]\n",
    "k = 0\n",
    "for j in [5, 10, 100, 200, 400, 600, 800, 1000]:\n",
    "    for i in range(j):\n",
    "        SampleErlang[k].append(erlang_dis(b,a))\n",
    "    k += 1"
   ]
  },
  {
   "cell_type": "code",
   "execution_count": 367,
   "id": "be90a5a6",
   "metadata": {},
   "outputs": [],
   "source": [
    "def erlang_cdff(x,theta,m):\n",
    "    sum = 0\n",
    "    for i in range(m):\n",
    "        sum = sum + ((theta*x)**i/math.factorial(i))\n",
    "    return 1 - (math.e **(-1*theta*x))*sum"
   ]
  },
  {
   "cell_type": "code",
   "execution_count": 393,
   "id": "94d3f7b8",
   "metadata": {},
   "outputs": [
    {
     "data": {
      "image/png": "[encoded data removed]",
      "text/plain": [
       "<Figure size 432x288 with 1 Axes>"
      ]
     },
     "metadata": {
      "needs_background": "light"
     },
     "output_type": "display_data"
    }
   ],
   "source": [
    "x = np.linspace(0, max(SampleErlang[7]), 1000)\n",
    "x_1 = x[np.where(x <= 0)] * 0\n",
    "x_2 = erlang_cdff(x[np.where(x > 0)],2.5,6)\n",
    "y = np.concatenate((x_1, x_2))\n",
    "plt.plot(x,y, label = \"Теоретическая ф.в.\")\n",
    "for i in range(len(SampleErlang)):\n",
    "    x = np.linspace(0, max(SampleErlang[i]), 1000)\n",
    "    plt.plot(x,[emperfunction(SampleErlang[i], t) for t in x],label = 'Выборка размера %i' %len(SampleErlang[i]), ls = '--')\n",
    "plt.legend()\n",
    "plt.show()"
   ]
  },
  {
   "cell_type": "markdown",
   "id": "22057656",
   "metadata": {},
   "source": [
    "Эмпирическая к теоритеческой сходится по теореме Колмогорова\n",
    "Теорема Колмогорова работает для всех непрерывных функций"
   ]
  },
  {
   "cell_type": "markdown",
   "id": "6efa9972",
   "metadata": {},
   "source": [
    "Вычисляем функцию D"
   ]
  },
  {
   "cell_type": "markdown",
   "id": "fef5fe2a",
   "metadata": {},
   "source": [
    "Смирнова, работает только для непрерывних распределений. В вероятность, того, что D меньше числа t стремится к распределению Колмогорова от t"
   ]
  },
  {
   "cell_type": "code",
   "execution_count": 394,
   "id": "fc274b32",
   "metadata": {},
   "outputs": [
    {
     "name": "stdout",
     "output_type": "stream",
     "text": [
      "D( 5 , 10 )\n",
      "0.5477225575051662\n",
      "D( 5 , 100 )\n",
      "0.7637626158259733\n",
      "D( 5 , 200 )\n",
      "0.6184165460191406\n",
      "D( 5 , 400 )\n",
      "0.6222222222222223\n",
      "D( 5 , 600 )\n",
      "0.6680426571226848\n",
      "D( 5 , 800 )\n",
      "0.6687338550904234\n",
      "D( 5 , 1000 )\n",
      "0.6022346446063852\n",
      "D( 10 , 5 )\n",
      "0.5477225575051662\n",
      "D( 10 , 100 )\n",
      "0.42211588240886916\n",
      "D( 10 , 200 )\n",
      "0.5709223948597401\n",
      "D( 10 , 400 )\n",
      "0.48413866185467874\n",
      "D( 10 , 600 )\n",
      "0.4965729548148508\n",
      "D( 10 , 800 )\n",
      "0.4831896338108075\n",
      "D( 10 , 1000 )\n",
      "0.5128931720549553\n",
      "D( 100 , 5 )\n",
      "0.7637626158259733\n",
      "D( 100 , 10 )\n",
      "0.42211588240886916\n",
      "D( 100 , 200 )\n",
      "0.77567175188134\n",
      "D( 100 , 400 )\n",
      "0.8497058314499198\n",
      "D( 100 , 600 )\n",
      "0.5554920598635303\n",
      "D( 100 , 800 )\n",
      "0.9192388155425111\n",
      "D( 100 , 1000 )\n",
      "0.8390470785361209\n",
      "D( 200 , 5 )\n",
      "0.6184165460191406\n",
      "D( 200 , 10 )\n",
      "0.5709223948597401\n",
      "D( 200 , 100 )\n",
      "0.77567175188134\n",
      "D( 200 , 400 )\n",
      "0.5773502691896251\n",
      "D( 200 , 600 )\n",
      "0.7348469228349533\n",
      "D( 200 , 800 )\n",
      "0.7905694150420949\n",
      "D( 200 , 1000 )\n",
      "0.5551276129563961\n",
      "D( 400 , 5 )\n",
      "0.6222222222222223\n",
      "D( 400 , 10 )\n",
      "0.48413866185467874\n",
      "D( 400 , 100 )\n",
      "0.8497058314499198\n",
      "D( 400 , 200 )\n",
      "0.5773502691896251\n",
      "D( 400 , 600 )\n",
      "0.6971370023173357\n",
      "D( 400 , 800 )\n",
      "0.6123724356957942\n",
      "D( 400 , 1000 )\n",
      "0.6761234037828139\n",
      "D( 600 , 5 )\n",
      "0.6680426571226848\n",
      "D( 600 , 10 )\n",
      "0.4965729548148508\n",
      "D( 600 , 100 )\n",
      "0.5554920598635303\n",
      "D( 600 , 200 )\n",
      "0.7348469228349533\n",
      "D( 600 , 400 )\n",
      "0.6971370023173357\n",
      "D( 600 , 800 )\n",
      "0.7792319173085647\n",
      "D( 600 , 1000 )\n",
      "0.8520563361656325\n",
      "D( 800 , 5 )\n",
      "0.6687338550904234\n",
      "D( 800 , 10 )\n",
      "0.4831896338108075\n",
      "D( 800 , 100 )\n",
      "0.9192388155425111\n",
      "D( 800 , 200 )\n",
      "0.7905694150420949\n",
      "D( 800 , 400 )\n",
      "0.6123724356957942\n",
      "D( 800 , 600 )\n",
      "0.7792319173085647\n",
      "D( 800 , 1000 )\n",
      "0.6324555320336752\n",
      "D( 1000 , 5 )\n",
      "0.6022346446063852\n",
      "D( 1000 , 10 )\n",
      "0.5128931720549553\n",
      "D( 1000 , 100 )\n",
      "0.8390470785361209\n",
      "D( 1000 , 200 )\n",
      "0.5551276129563961\n",
      "D( 1000 , 400 )\n",
      "0.6761234037828139\n",
      "D( 1000 , 600 )\n",
      "0.8520563361656325\n",
      "D( 1000 , 800 )\n",
      "0.6324555320336752\n"
     ]
    }
   ],
   "source": [
    "text_bl = [5, 10, 100, 200, 400, 600, 800, 1000]\n",
    "for i in range(len(SampleErlang)):\n",
    "    for j in range(len(SampleErlang)):\n",
    "        if i != j:\n",
    "            print('D(', text_bl[i],',',text_bl[j],')')\n",
    "            print(d_func(SampleErlang[i],SampleErlang[j]))"
   ]
  },
  {
   "cell_type": "markdown",
   "id": "5e6b4efa",
   "metadata": {},
   "source": [
    "### Построение гистограм и Полигона частот"
   ]
  },
  {
   "cell_type": "code",
   "execution_count": 404,
   "id": "9e1926f7",
   "metadata": {},
   "outputs": [
    {
     "data": {
      "image/png": "[encoded data removed]",
      "text/plain": [
       "<Figure size 432x288 with 1 Axes>"
      ]
     },
     "metadata": {
      "needs_background": "light"
     },
     "output_type": "display_data"
    },
    {
     "data": {
      "image/png": "[encoded data removed]",
      "text/plain": [
       "<Figure size 432x288 with 1 Axes>"
      ]
     },
     "metadata": {
      "needs_background": "light"
     },
     "output_type": "display_data"
    },
    {
     "data": {
      "image/png": "[encoded data removed]",
      "text/plain": [
       "<Figure size 432x288 with 1 Axes>"
      ]
     },
     "metadata": {
      "needs_background": "light"
     },
     "output_type": "display_data"
    },
    {
     "data": {
      "image/png": "[encoded data removed]",
      "text/plain": [
       "<Figure size 432x288 with 1 Axes>"
      ]
     },
     "metadata": {
      "needs_background": "light"
     },
     "output_type": "display_data"
    },
    {
     "data": {
      "image/png": "[encoded data removed]",
      "text/plain": [
       "<Figure size 432x288 with 1 Axes>"
      ]
     },
     "metadata": {
      "needs_background": "light"
     },
     "output_type": "display_data"
    },
    {
     "data": {
      "image/png": "[encoded data removed]",
      "text/plain": [
       "<Figure size 432x288 with 1 Axes>"
      ]
     },
     "metadata": {
      "needs_background": "light"
     },
     "output_type": "display_data"
    },
    {
     "data": {
      "image/png": "[encoded data removed]",
      "text/plain": [
       "<Figure size 432x288 with 1 Axes>"
      ]
     },
     "metadata": {
      "needs_background": "light"
     },
     "output_type": "display_data"
    },
    {
     "data": {
      "image/png": "[encoded data removed]",
      "text/plain": [
       "<Figure size 432x288 with 1 Axes>"
      ]
     },
     "metadata": {
      "needs_background": "light"
     },
     "output_type": "display_data"
    }
   ],
   "source": [
    "erl_th = 2.5\n",
    "erl_m = 6\n",
    "x = np.linspace(0, max(SampleErlang[7]), 1000)\n",
    "for i in range(len(SampleErlang)):\n",
    "    plt.plot(x,(erl_th**erl_m/math.factorial(m-1))*x**(m-1)*math.e**(-1*erl_th*x), '--', label = \"Плотность вероятности\")\n",
    "    plt.hist(SampleErlang[i],density=True, label = \"частоты\")\n",
    "    plt.title('Выборка из %i элементов ' %len(SampleErlang[i]))\n",
    "    plt.legend()\n",
    "    plt.show()"
   ]
  },
  {
   "cell_type": "markdown",
   "id": "6c455dad",
   "metadata": {},
   "source": [
    "### Вычисление выборочных моментов"
   ]
  },
  {
   "cell_type": "code",
   "execution_count": 405,
   "id": "6095cab5",
   "metadata": {},
   "outputs": [
    {
     "name": "stdout",
     "output_type": "stream",
     "text": [
      "Выборка размером 5\n",
      "Выборочное среднее: 2.5727645005681383\n",
      "Выборочная дисперсия: 0.584096365800198\n",
      "Разница выборочного среднего и математического ожидания 0.1727645005681384\n",
      "Разница выборочной дисперсии и теоретической дисперсии 0.375903634199802 \n",
      "\n",
      "Выборка размером 10\n",
      "Выборочное среднее: 2.390614911818179\n",
      "Выборочная дисперсия: 1.4339848719260757\n",
      "Разница выборочного среднего и математического ожидания 0.009385088181820933\n",
      "Разница выборочной дисперсии и теоретической дисперсии 0.47398487192607575 \n",
      "\n",
      "Выборка размером 100\n",
      "Выборочное среднее: 2.266124591588995\n",
      "Выборочная дисперсия: 0.8774226968379201\n",
      "Разница выборочного среднего и математического ожидания 0.13387540841100476\n",
      "Разница выборочной дисперсии и теоретической дисперсии 0.0825773031620799 \n",
      "\n",
      "Выборка размером 200\n",
      "Выборочное среднее: 2.4346746393055456\n",
      "Выборочная дисперсия: 0.8561669066605634\n",
      "Разница выборочного среднего и математического ожидания 0.03467463930554571\n",
      "Разница выборочной дисперсии и теоретической дисперсии 0.10383309333943658 \n",
      "\n",
      "Выборка размером 400\n",
      "Выборочное среднее: 2.379620897831296\n",
      "Выборочная дисперсия: 0.7596366010164414\n",
      "Разница выборочного среднего и математического ожидания 0.020379102168703866\n",
      "Разница выборочной дисперсии и теоретической дисперсии 0.2003633989835586 \n",
      "\n",
      "Выборка размером 600\n",
      "Выборочное среднее: 2.3453281537626944\n",
      "Выборочная дисперсия: 0.8492330004563802\n",
      "Разница выборочного среднего и математического ожидания 0.05467184623730548\n",
      "Разница выборочной дисперсии и теоретической дисперсии 0.11076699954361979 \n",
      "\n",
      "Выборка размером 800\n",
      "Выборочное среднее: 2.4115236241917115\n",
      "Выборочная дисперсия: 0.9588063466541149\n",
      "Разница выборочного среднего и математического ожидания 0.011523624191711601\n",
      "Разница выборочной дисперсии и теоретической дисперсии 0.0011936533458850596 \n",
      "\n",
      "Выборка размером 1000\n",
      "Выборочное среднее: 2.435121168356652\n",
      "Выборочная дисперсия: 0.9974072890549641\n",
      "Разница выборочного среднего и математического ожидания 0.03512116835665191\n",
      "Разница выборочной дисперсии и теоретической дисперсии 0.037407289054964155 \n",
      "\n"
     ]
    }
   ],
   "source": [
    "mat_ozh_form = 6/2.5\n",
    "disper_form = 6/(2.5**2)\n",
    "k = 0\n",
    "for j in [5, 10, 100, 200, 400, 600, 800, 1000]:\n",
    "    mean_f=np.mean(SampleErlang[k])\n",
    "    ver_f =np.var(SampleErlang[k])\n",
    "    print('Выборка размером %i' %j)\n",
    "    print('Выборочное среднее:', mean_f)\n",
    "    print('Выборочная дисперсия:', ver_f)\n",
    "    print('Разница выборочного среднего и математического ожидания', abs(mean_f - mat_ozh_form))\n",
    "    print('Разница выборочной дисперсии и теоретической дисперсии', abs(ver_f - disper_form), '\\n')\n",
    "    k += 1"
   ]
  },
  {
   "cell_type": "markdown",
   "id": "037d47f1",
   "metadata": {},
   "source": [
    "# Домашнее задание 3"
   ]
  },
  {
   "cell_type": "markdown",
   "id": "4a0a8f04",
   "metadata": {},
   "source": [
    "Добавить свойства оценок"
   ]
  },
  {
   "cell_type": "markdown",
   "id": "a63576d8",
   "metadata": {},
   "source": [
    "$n = 61, \\theta = 0.6$\n",
    "$m = 6, \\theta = 2.5\n",
    "$"
   ]
  },
  {
   "cell_type": "markdown",
   "id": "90fc0b1e",
   "metadata": {},
   "source": [
    "## Получение оценок методом моментов и методом максимального правдоподобия\n"
   ]
  },
  {
   "cell_type": "markdown",
   "id": "7b01e408",
   "metadata": {},
   "source": [
    "## Биномиальное распределение\n",
    "### Метод моментов"
   ]
  },
  {
   "cell_type": "markdown",
   "id": "366f2d23",
   "metadata": {},
   "source": [
    "По определению, выборочное среднее это  \n",
    "$$\\bar x = \\frac{1}{N} \\sum_{i=1}^{N} X_{i}$$\n",
    "Метод моментов заключается к приравниваю к-го начального момента к к-му выборочному моменту.\n",
    "Тогда получаем:\n",
    "$$ \\bar X = n\\theta \\Rightarrow \\theta = \\frac{\\bar x}{n} \\\\ \\$$"
   ]
  },
  {
   "cell_type": "markdown",
   "id": "60c49e99",
   "metadata": {},
   "source": [
    "Оценка полученная методом моментов является состоятельной"
   ]
  },
  {
   "cell_type": "markdown",
   "id": "f45dfd83",
   "metadata": {},
   "source": [
    "Для расчета выборочного среднего и выборочной дисперсии используем функции из библиотеки numpy"
   ]
  },
  {
   "cell_type": "code",
   "execution_count": 410,
   "id": "f30f3938",
   "metadata": {},
   "outputs": [
    {
     "name": "stdout",
     "output_type": "stream",
     "text": [
      "Выборка размера:5\n",
      "t = 0.6229508196721312\n",
      "Выборка размера:10\n",
      "t = 0.5442622950819672\n",
      "Выборка размера:100\n",
      "t = 0.6013114754098361\n",
      "Выборка размера:200\n",
      "t = 0.6055737704918033\n",
      "Выборка размера:400\n",
      "t = 0.5979508196721312\n",
      "Выборка размера:600\n",
      "t = 0.6010109289617487\n",
      "Выборка размера:800\n",
      "t = 0.6018442622950819\n",
      "Выборка размера:1000\n",
      "t = 0.5984098360655737\n"
     ]
    }
   ],
   "source": [
    "for i in range(len(SampleBiom)):\n",
    "    print(f'Выборка размера:{len(SampleBiom[i])}')\n",
    "    print(f't = {(np.mean(SampleBiom[i]))/61}')"
   ]
  },
  {
   "cell_type": "markdown",
   "id": "dcb10593",
   "metadata": {},
   "source": [
    "### Метод максимального правдоподобия"
   ]
  },
  {
   "cell_type": "markdown",
   "id": "2c3c108b",
   "metadata": {},
   "source": [
    "Для дискретного распредления выполняется равенство $L(x_{1}, ..., x_{n};\\theta;n)=P(X_{1}=x_{1}, ...., X_{n}=x_{n};\\theta;n)$\n",
    "$$L(n;\\theta;x)=\\binom{n}{x}\\theta^{x}(1-\\theta)^{n-x} \\\\ \\ln L(n;\\theta;x) = \\ln \\binom{n}{x}\\theta^{x}(1-\\theta)^{n-x} \\\\ \\ln L(n;\\theta;x) = \\ln \\binom{n}{x} + x\\ln \\theta + (n-x)\\ln(1-\\theta)$$ \n",
    "Далее необходимовзять производную по $\\theta$ и прировнять к 0 и аналогично с производной по n, но решения уравнения с производной по n неразрешимо. \n",
    "$$\\ln L'(X,\\theta,n)=\\frac{N\\bar{x}}{\\theta}-\\frac{n-N\\bar{x}}{1-\\theta} = 0 \\\\ \\frac{\\bar x (1-\\theta) -(n-\\bar x)\\theta}{(1-\\theta)\\theta} = 0 \\\\ x-\\theta-(n-\\bar x)\\theta=0 \\\\ \\theta=\\frac{-\\bar x}{-1 -n+x} = \\frac{\\bar x}{n}$$"
   ]
  },
  {
   "cell_type": "markdown",
   "id": "34bae947",
   "metadata": {},
   "source": [
    "Данная оценка является состоятельной, асимтотически норманой и асимптотически эффективной"
   ]
  },
  {
   "cell_type": "code",
   "execution_count": 59,
   "id": "76eb36f8",
   "metadata": {},
   "outputs": [
    {
     "name": "stdout",
     "output_type": "stream",
     "text": [
      "Для выборки размера 5\n",
      "n = 61\n",
      "t = 0.6163934426229508\n",
      "Для выборки размера 10\n",
      "n = 61\n",
      "t = 0.6442622950819672\n",
      "Для выборки размера 100\n",
      "n = 61\n",
      "t = 0.5900000000000001\n",
      "Для выборки размера 200\n",
      "n = 61\n",
      "t = 0.5978688524590163\n",
      "Для выборки размера 400\n",
      "n = 61\n",
      "t = 0.6011475409836066\n",
      "Для выборки размера 600\n",
      "n = 61\n",
      "t = 0.5975409836065574\n",
      "Для выборки размера 800\n",
      "n = 61\n",
      "t = 0.6021106557377048\n",
      "Для выборки размера 1000\n",
      "n = 61\n",
      "t = 0.6027213114754099\n"
     ]
    }
   ],
   "source": [
    "for i in range(len(SampleBiom)):\n",
    "    print(f'Для выборки размера {len(SampleBiom[i])}')\n",
    "    print(f'n = {61}')\n",
    "    print(f't = {np.mean(SampleBiom[i])/61}')"
   ]
  },
  {
   "cell_type": "markdown",
   "id": "f5b07240",
   "metadata": {},
   "source": [
    "### Поиск оптимальный оценок"
   ]
  },
  {
   "cell_type": "markdown",
   "id": "501df57b",
   "metadata": {},
   "source": [
    "Определение 22 пункт 3: Неравенство Рао-Крамера превращается в равенств, если выполняется $$\\frac{\\partial \\ln L}{\\partial \\theta} = A(\\theta)(T(x)-\\tau(\\theta))$$  И в таком случае оценка является эффиктивной.(Для удобство заменем в распределение $\\theta$ на p)"
   ]
  },
  {
   "cell_type": "markdown",
   "id": "73306544",
   "metadata": {},
   "source": [
    "Выше уже подсчитано, что $$\\ln L'(X,p)=\\frac{N\\bar{x}}{p}-\\frac{n-N\\bar{x}}{1-p}$$ Преобразуем данное выражение и получим : $$ L'(X,p) =\\frac{nN}{p(1-p)}\\Bigg(\\frac{\\over X}{n}-p\\Bigg)$$"
   ]
  },
  {
   "cell_type": "markdown",
   "id": "a7b1914f",
   "metadata": {},
   "source": [
    "Отсюда получаем, что $A(p)=\\frac{nN}{p(1-p)}, a (T(x)-\\tau(\\theta) =\\frac{\\over X}{n}-p $ Тк равенство выполняется $\\Rightarrow T(x)= \\frac{\\bar x}{n}$ - эффективная оценка для $\\tau(p) = p. $По определению эффективная= оптимальной оценке$ \\Rightarrow T(x)$ - Оптимальная оценка"
   ]
  },
  {
   "cell_type": "code",
   "execution_count": 60,
   "id": "240415ad",
   "metadata": {},
   "outputs": [
    {
     "name": "stdout",
     "output_type": "stream",
     "text": [
      "Для выборки размера 5\n",
      "n = 61\n",
      "t = 0.6163934426229508\n",
      "Для выборки размера 10\n",
      "n = 61\n",
      "t = 0.6442622950819672\n",
      "Для выборки размера 100\n",
      "n = 61\n",
      "t = 0.5900000000000001\n",
      "Для выборки размера 200\n",
      "n = 61\n",
      "t = 0.5978688524590163\n",
      "Для выборки размера 400\n",
      "n = 61\n",
      "t = 0.6011475409836066\n",
      "Для выборки размера 600\n",
      "n = 61\n",
      "t = 0.5975409836065574\n",
      "Для выборки размера 800\n",
      "n = 61\n",
      "t = 0.6021106557377048\n",
      "Для выборки размера 1000\n",
      "n = 61\n",
      "t = 0.6027213114754099\n"
     ]
    }
   ],
   "source": [
    "for i in range(len(SampleBiom)):\n",
    "    print(f'Для выборки размера {len(SampleBiom[i])}')\n",
    "    print(f'n = {61}')\n",
    "    print(f't = {np.mean(SampleBiom[i])/61}')"
   ]
  },
  {
   "cell_type": "markdown",
   "id": "d6d9811d",
   "metadata": {},
   "source": [
    "## Непрерывное распределение\n",
    "### Метод моментов"
   ]
  },
  {
   "cell_type": "markdown",
   "id": "72eb1734",
   "metadata": {},
   "source": [
    "$$M \\xi = \\frac{1}{n} \\sum_{i=1}^{n} X_{i} \\Rightarrow \\\\\n",
    "\\Rightarrow \\frac{m}{\\theta} = \\frac{1}{n} \\sum_{i=1}^{n} X_{i} \\Rightarrow \\\\ \n",
    "\\Rightarrow \\theta = \\frac{m}{\\frac{1}{n} \\sum_{i=1}^{n} X_{i}}$$"
   ]
  },
  {
   "cell_type": "code",
   "execution_count": 66,
   "id": "a869f232",
   "metadata": {},
   "outputs": [
    {
     "name": "stdout",
     "output_type": "stream",
     "text": [
      "Для выборки размера 5\n",
      "m = 6\n",
      "t = 2.2059465380841243\n",
      "Для выборки размера 10\n",
      "m = 6\n",
      "t = 2.2755517394104667\n",
      "Для выборки размера 100\n",
      "m = 6\n",
      "t = 2.423728162584539\n",
      "Для выборки размера 200\n",
      "m = 6\n",
      "t = 2.469489185117801\n",
      "Для выборки размера 400\n",
      "m = 6\n",
      "t = 2.503038384993911\n",
      "Для выборки размера 600\n",
      "m = 6\n",
      "t = 2.422037915051817\n",
      "Для выборки размера 800\n",
      "m = 6\n",
      "t = 2.470932639353028\n",
      "Для выборки размера 1000\n",
      "m = 6\n",
      "t = 2.5020211873630083\n"
     ]
    }
   ],
   "source": [
    "for i in range(len(SampleErlang)):\n",
    "    print(f'Для выборки размера {len(SampleErlang[i])}')\n",
    "    print(f'm = {6}')\n",
    "    print(f't = {6/(np.mean(SampleErlang[i]))}')"
   ]
  },
  {
   "cell_type": "markdown",
   "id": "2c6e9ddb",
   "metadata": {},
   "source": [
    "### Метод максимального правдоподобия"
   ]
  },
  {
   "cell_type": "markdown",
   "id": "5227581f",
   "metadata": {},
   "source": [
    "Для непрерывного распредления выполняется равенство $L(x_{1}, ..., x_{n};\\theta)=\\prod_{i=1}^{N} f(x_{i},\\theta)$\n",
    "$$L(X,\\theta) =  \\big( \\frac{\\theta^{m}}{(m-1)!} \\big)^{n}  \\cdot \\prod_{i=1}^{N} x^{(m-1)} e^{-\\theta x} \\\\ \\ln L(X,\\theta) = \\ln \\big( \\frac{\\theta^{m}}{(m-1)!} \\big)^{n}  \\cdot \\prod_{i=1}^{N} x^{(m-1)} e^{-\\theta x} \\\\ \\frac{d}{d\\theta}\\ln L(X,\\theta) = \\frac{d}{d\\theta}(nm \\ln \\theta + (m-1) \\sum_{i=1}^{n} \\ln x_{i} - \\theta \\sum_{i=1}^{n} x_{i} - n \\ln (m-1)!) \\\\ \n",
    "\\frac{d}{d\\theta}(nm \\ln \\theta + (m-1) \\sum_{i=1}^{n} \\ln x_{i} - \\theta \\sum_{i=1}^{n} x_{i} - n \\ln (m-1)!) = 0 \\\\ \\hat \\theta = \\frac{nm}{\\sum_{i=1}^{n}x_{i}} $$"
   ]
  },
  {
   "cell_type": "code",
   "execution_count": 67,
   "id": "51f7f89e",
   "metadata": {},
   "outputs": [
    {
     "name": "stdout",
     "output_type": "stream",
     "text": [
      "Для выборки размера 5\n",
      "m = 6\n",
      "t = 2.2059465380841248\n",
      "Для выборки размера 10\n",
      "m = 6\n",
      "t = 2.275551739410467\n",
      "Для выборки размера 100\n",
      "m = 6\n",
      "t = 2.423728162584538\n",
      "Для выборки размера 200\n",
      "m = 6\n",
      "t = 2.4694891851178022\n",
      "Для выборки размера 400\n",
      "m = 6\n",
      "t = 2.5030383849939124\n",
      "Для выборки размера 600\n",
      "m = 6\n",
      "t = 2.4220379150518188\n",
      "Для выборки размера 800\n",
      "m = 6\n",
      "t = 2.47093263935303\n",
      "Для выборки размера 1000\n",
      "m = 6\n",
      "t = 2.5020211873630074\n"
     ]
    }
   ],
   "source": [
    "for i in range(len(SampleErlang)):\n",
    "    print(f'Для выборки размера {len(SampleErlang[i])}')\n",
    "    print(f'm = {6}')\n",
    "    print(f't = {len(SampleErlang[i])*6/sum(SampleErlang[i])}')"
   ]
  },
  {
   "cell_type": "markdown",
   "id": "d0d025a7",
   "metadata": {},
   "source": [
    "### Поиск оптимальный оценок"
   ]
  },
  {
   "cell_type": "markdown",
   "id": "24e0f920",
   "metadata": {},
   "source": [
    "Докажем, что наша модель регулярна. Для этого воспользуемся теоремой из курса математической статистики.\n",
    "Плотность распределения будет непрерывна по 𝑥 в [0,$\\infty$) при любом постоянном 𝜃 . Предположим, что во всей области существует частная производная $f'(𝑥,𝜃)$\n",
    "непрерывная как функция двух переменных. Тогда при любом 𝜃 имеет место формула:\n",
    "$$\\frac{d}{d\\theta}\\int_{a}^{b} f(x,\\theta) \\,dx =\\int_{a}^{b} \\frac{d}{d\\theta} f(x,\\theta) \\,dx$$"
   ]
  },
  {
   "cell_type": "markdown",
   "id": "a7ce02b3",
   "metadata": {},
   "source": [
    "По определению, распределение принадлежит экспоненциальному семейству, если $$f_{\\theta}(x) = exp{A(\\theta)*B(x)+C(\\theta)+D(\\theta)}$$ Так же эту формулу можно представить в виде:\n",
    "$$L(X,\\theta) =  \\big( \\frac{\\theta^{m}}{(m-1)!} \\big)^{n}  \\cdot \\prod_{i=1}^{N} x_{i}^{(m-1)} e^{-\\theta x} = \\\\ = \\big( \\frac{\\theta^{m}}{(m-1)!} \\big)^{n}  \\cdot \\prod_{i=1}^{N} exp \\big( x_{i}^{(m-1)} e^{-\\theta x} \\big) = \\\\  \\big( \\frac{\\theta^{m}}{(m-1)!} \\big)^{n}  \\cdot exp \\big( -\\theta \\sum_{i=1}^{n} x_{i} + (m-1)\\sum_{i=1}^{n} \\ln x_{i} = \\\\ exp \\big( -\\theta \\sum_{i=1}^{n} x_{i} + n \\ln \\big( \\frac{\\theta^{m}}{(m-1)!} \\big) + (m-1)\\sum_{i=1}^{n} \\ln x_{i} \\Rightarrow \\\\ \\Rightarrow A(\\theta) = -\\theta , B(x) = x_{i}, C(\\theta) = n \\ln \\big( \\frac{\\theta^{m}}{(m-1)!} \\big), D(x) = (m-1)\\sum_{i=1}^{n} \\ln x_{i} \\\\ T(x) = \\frac{1}{n}\\sum_{i=1}^{n}B(x) = \\frac{1}{n}\\sum_{i=1}^{n}x_{i} = \\bar x \\\\ \\tau(\\theta)=-  \\frac{C'(\\theta)}{A'{\\theta}} =-\\frac{m}{-\\theta} = \\frac{m}{\\theta}$$"
   ]
  },
  {
   "cell_type": "markdown",
   "id": "eb46eb2c",
   "metadata": {},
   "source": [
    "Чтобы получить оптимальную оценку для $\\tau(\\theta)=\\theta$ необходимо T(x) представить в виде случайной велечины в Гамма распределениии"
   ]
  },
  {
   "cell_type": "code",
   "execution_count": 407,
   "id": "c9d801f4",
   "metadata": {
    "scrolled": true
   },
   "outputs": [
    {
     "name": "stdout",
     "output_type": "stream",
     "text": [
      "Для выборки размера 5\n",
      "tau(theta) = 2.4\n",
      "T(x) = 2.5727645005681383\n",
      "Для выборки размера 10\n",
      "tau(theta) = 2.4\n",
      "T(x) = 2.390614911818179\n",
      "Для выборки размера 100\n",
      "tau(theta) = 2.4\n",
      "T(x) = 2.266124591588995\n",
      "Для выборки размера 200\n",
      "tau(theta) = 2.4\n",
      "T(x) = 2.4346746393055456\n",
      "Для выборки размера 400\n",
      "tau(theta) = 2.4\n",
      "T(x) = 2.379620897831296\n",
      "Для выборки размера 600\n",
      "tau(theta) = 2.4\n",
      "T(x) = 2.3453281537626944\n",
      "Для выборки размера 800\n",
      "tau(theta) = 2.4\n",
      "T(x) = 2.4115236241917115\n",
      "Для выборки размера 1000\n",
      "tau(theta) = 2.4\n",
      "T(x) = 2.435121168356652\n"
     ]
    }
   ],
   "source": [
    "for i in range(len(SampleErlang)):\n",
    "    print(f'Для выборки размера {len(SampleErlang[i])}')\n",
    "    print(f'tau(theta) = {6/2.5}')\n",
    "    print(f'T(x) = {np.mean(SampleErlang[i])}')"
   ]
  },
  {
   "cell_type": "markdown",
   "id": "c34f171f",
   "metadata": {},
   "source": [
    "## Работа с данными\n",
    "Данные взяты с сайта:https://www.kaggle.com/prakharrathi25/banking-dataset-marketing-targets?select=train.csv\n",
    "Оценим параметр вероятности того, что люди которые состоят в браке берут кредит на жилье"
   ]
  },
  {
   "cell_type": "code",
   "execution_count": 173,
   "id": "dd602ef8",
   "metadata": {},
   "outputs": [],
   "source": [
    "data = pd.read_csv('test.csv', delimiter=';')"
   ]
  },
  {
   "cell_type": "code",
   "execution_count": 174,
   "id": "d3260986",
   "metadata": {},
   "outputs": [],
   "source": [
    "df = data[['marital','loan']]"
   ]
  },
  {
   "cell_type": "code",
   "execution_count": 175,
   "id": "d2dd499d",
   "metadata": {},
   "outputs": [
    {
     "data": {
      "text/plain": [
       "RangeIndex(start=0, stop=4521, step=1)"
      ]
     },
     "execution_count": 175,
     "metadata": {},
     "output_type": "execute_result"
    }
   ],
   "source": [
    "df.index"
   ]
  },
  {
   "cell_type": "code",
   "execution_count": 176,
   "id": "cf4bce85",
   "metadata": {},
   "outputs": [],
   "source": [
    "df = df.drop(df[df.marital!='married'].index)"
   ]
  },
  {
   "cell_type": "code",
   "execution_count": 194,
   "id": "6ebf3ea5",
   "metadata": {},
   "outputs": [
    {
     "data": {
      "text/plain": [
       "Int64Index([   0,    1,    3,    4,    6,    7,    8,    9,   10,   11,\n",
       "            ...\n",
       "            4508, 4509, 4511, 4512, 4513, 4514, 4516, 4517, 4518, 4519],\n",
       "           dtype='int64', length=2797)"
      ]
     },
     "execution_count": 194,
     "metadata": {},
     "output_type": "execute_result"
    }
   ],
   "source": [
    "df.index"
   ]
  },
  {
   "cell_type": "code",
   "execution_count": 232,
   "id": "e6ac97b9",
   "metadata": {},
   "outputs": [],
   "source": [
    "arr = []"
   ]
  },
  {
   "cell_type": "code",
   "execution_count": 216,
   "id": "cb987dec",
   "metadata": {},
   "outputs": [],
   "source": [
    "dr = df.loan.eq('yes').mul(1)"
   ]
  },
  {
   "cell_type": "code",
   "execution_count": 233,
   "id": "eca30334",
   "metadata": {},
   "outputs": [],
   "source": [
    "for i in range(65):\n",
    "    sum1 = sum(dr[i:i+43])\n",
    "    arr.append(sum1)"
   ]
  },
  {
   "cell_type": "code",
   "execution_count": 239,
   "id": "70d62664",
   "metadata": {},
   "outputs": [
    {
     "name": "stdout",
     "output_type": "stream",
     "text": [
      "0.16064400715563507\n"
     ]
    }
   ],
   "source": [
    "print(np.mean(arr)/43)"
   ]
  },
  {
   "cell_type": "markdown",
   "id": "49c7f102",
   "metadata": {},
   "source": [
    "# Домашнее задание 4"
   ]
  },
  {
   "cell_type": "markdown",
   "id": "514a4adc",
   "metadata": {},
   "source": [
    "## Биномиальное распределение"
   ]
  },
  {
   "cell_type": "markdown",
   "id": "7fcb9955",
   "metadata": {},
   "source": [
    "## Согласие Колмогорова\n",
    " Так как согласие Колмогорова основана на теореме Колмогорова, которая в свою очередь выполняется только для непрерывных распределений $\\Rightarrow$ критерий Колмогорова не выполняется для Дискретных распределений."
   ]
  },
  {
   "cell_type": "markdown",
   "id": "1ad92e77",
   "metadata": {},
   "source": [
    "## Критерий согласия  ХИ-квадрат"
   ]
  },
  {
   "cell_type": "markdown",
   "id": "3b494628",
   "metadata": {},
   "source": [
    "Рассмотрим следующую статистику $$X_{n}^2=\\sum_{i=1}^{n} \\frac{(v_{i}^{(n)})^{2}}{np_{i}}-n$$, где $n$ - количество наблюдений, $\\nu_j$ - наблюдаемая частота значения, $p_i$ - теоретическая вероятность, $N$ - количество различных частот. Критическая статистика $t_\\alpha=\\chi^2_{1-\\alpha, N-1}$, то есть это критическое значение распределения хи-квадрат с $N-1$ степенями свободы."
   ]
  },
  {
   "cell_type": "markdown",
   "id": "0bcb9f2d",
   "metadata": {},
   "source": [
    "Возьмем нашу выборку на 1000 элементов. И создадим для нее вектор частот"
   ]
  },
  {
   "cell_type": "code",
   "execution_count": 501,
   "id": "f62fd50e",
   "metadata": {},
   "outputs": [],
   "source": [
    "samp = SampleBiom[7]\n",
    "samp.sort()\n",
    "freqVector=list(dict(Counter(samp)).values())\n",
    "#print(samp)\n",
    "#print(freqVector)\n",
    "freqVector = freqVector[2:-2:]\n",
    "#freqVector"
   ]
  },
  {
   "cell_type": "markdown",
   "id": "79dc95a6",
   "metadata": {},
   "source": [
    "Так как критерий кси квадрат не работает на маленькой статистики, откиним частоты меньшие 5. Их, конечно можно объединить, но тогда они все равно будут меньше 5. Крч лень объеденять теоритическую вероятность для этих событий))))))) к тому же на выборке из 1к элементов это не сильно повредит))))))"
   ]
  },
  {
   "cell_type": "code",
   "execution_count": 493,
   "id": "2992e8a6",
   "metadata": {
    "scrolled": true
   },
   "outputs": [],
   "source": [
    "teoreticalVector = []\n",
    "for i in range(26,46):\n",
    "    teoreticalVector.append(sts.binom.pmf(i,61,0.6)*1000)\n",
    "#print(teoreticalVector)"
   ]
  },
  {
   "cell_type": "code",
   "execution_count": 574,
   "id": "bb897cc3",
   "metadata": {},
   "outputs": [
    {
     "name": "stdout",
     "output_type": "stream",
     "text": [
      "20\n",
      "20\n"
     ]
    }
   ],
   "source": [
    "print(len(teoreticalVector))\n",
    "print(len(freqVector))"
   ]
  },
  {
   "cell_type": "markdown",
   "id": "00cf59f6",
   "metadata": {},
   "source": [
    "Посчитаем $X_{n}^2$ по вышеуказанной формулой"
   ]
  },
  {
   "cell_type": "code",
   "execution_count": 575,
   "id": "8a8bca52",
   "metadata": {},
   "outputs": [
    {
     "name": "stdout",
     "output_type": "stream",
     "text": [
      "15.79233854358594\n"
     ]
    }
   ],
   "source": [
    "Chi = 0\n",
    "for i in range(len(teoreticalVector)):\n",
    "    Chi += ((freqVector[i]-teoreticalVector[i])**2)/(teoreticalVector[i])\n",
    "print(Chi)"
   ]
  },
  {
   "cell_type": "markdown",
   "id": "9d22eef9",
   "metadata": {},
   "source": [
    "Имеем разбиение на 20 интервалов, следовательно по таблице кси квадрат(20) при степени свободы $\\alpha = 0.05$ будет больше, чем то, которое мы подсчитали, следовательно $H_{0}$ выполняется"
   ]
  },
  {
   "cell_type": "markdown",
   "id": "21ed1ba7",
   "metadata": {},
   "source": [
    "Критерий согласия хи-квадрат для сложной гипотезы. Алгоритм подсчета частот для имеющийса вывборки аналогичен хи-квадрату для простой гипотезы, поэтому будем использовать вектор частот подсчитанный выше. А для составления теоритического вектора, необходимо оценить неизвестный параметр $\\theta$ с помощью метода максимального правдоподобия, (формула для оценивания описана в 3-м домашнем задании, поэтому просто перепишем ее.) $\\theta = \\frac{\\bar x}{n}$"
   ]
  },
  {
   "cell_type": "code",
   "execution_count": 571,
   "id": "45a7a9a5",
   "metadata": {},
   "outputs": [
    {
     "data": {
      "text/plain": [
       "0.6003934426229509"
      ]
     },
     "execution_count": 571,
     "metadata": {},
     "output_type": "execute_result"
    }
   ],
   "source": [
    "theta_mle = np.mean(binomial_destr_r(61,0.6,1000))/61\n",
    "theta_mle"
   ]
  },
  {
   "cell_type": "code",
   "execution_count": 572,
   "id": "9c9257fa",
   "metadata": {},
   "outputs": [],
   "source": [
    "teoreticalVectorS = []\n",
    "for i in range(26,46):\n",
    "    teoreticalVectorS.append(sts.binom.pmf(i,61,theta_mle)*1000)"
   ]
  },
  {
   "cell_type": "code",
   "execution_count": 599,
   "id": "3e6e1fcc",
   "metadata": {},
   "outputs": [
    {
     "data": {
      "text/plain": [
       "[5,\n",
       " 4,\n",
       " 8,\n",
       " 19,\n",
       " 24,\n",
       " 35,\n",
       " 40,\n",
       " 55,\n",
       " 81,\n",
       " 107,\n",
       " 113,\n",
       " 113,\n",
       " 107,\n",
       " 78,\n",
       " 66,\n",
       " 54,\n",
       " 39,\n",
       " 26,\n",
       " 14,\n",
       " 5]"
      ]
     },
     "execution_count": 599,
     "metadata": {},
     "output_type": "execute_result"
    }
   ],
   "source": [
    "freqVector"
   ]
  },
  {
   "cell_type": "code",
   "execution_count": 598,
   "id": "52f54a40",
   "metadata": {},
   "outputs": [
    {
     "data": {
      "text/plain": [
       "[2.45293034400756,\n",
       " 4.769586780014704,\n",
       " 8.687461635026748,\n",
       " 14.828598308062935,\n",
       " 23.72575729290064,\n",
       " 35.58863593935093,\n",
       " 50.04651928971249,\n",
       " 65.97041179098441,\n",
       " 81.49286162415717,\n",
       " 94.29888273652463,\n",
       " 102.1571229645687,\n",
       " 103.53762462625187,\n",
       " 98.0882759617123,\n",
       " 86.77039796612995,\n",
       " 71.5855783220573,\n",
       " 54.998676027922166,\n",
       " 39.28476859137281,\n",
       " 26.037579182654273,\n",
       " 15.97760540753771,\n",
       " 9.053976397604737]"
      ]
     },
     "execution_count": 598,
     "metadata": {},
     "output_type": "execute_result"
    }
   ],
   "source": [
    "teoreticalVector\n"
   ]
  },
  {
   "cell_type": "code",
   "execution_count": 577,
   "id": "459a4c94",
   "metadata": {},
   "outputs": [
    {
     "name": "stdout",
     "output_type": "stream",
     "text": [
      "16.0917334666061\n"
     ]
    }
   ],
   "source": [
    "ChiS = 0\n",
    "for i in range(len(teoreticalVectorS)):\n",
    "    ChiS += ((freqVector[i]-teoreticalVectorS[i])**2)/(teoreticalVectorS[i])\n",
    "print(ChiS)"
   ]
  },
  {
   "cell_type": "markdown",
   "id": "3e16c40d",
   "metadata": {},
   "source": [
    "Имеем разбиение на 20 интервалов, следовательно по таблице кси квадрат(20) при степени свободы $\\alpha = 0.05$ будет больше, чем то, которое мы подсчитали, следовательно $H_{0}$ выполняется"
   ]
  },
  {
   "cell_type": "markdown",
   "id": "f3f37aa9",
   "metadata": {},
   "source": [
    "# Непрерывное распределение"
   ]
  },
  {
   "cell_type": "markdown",
   "id": "595e02b0",
   "metadata": {},
   "source": [
    "Распределение Эрланга относится к непрерывным распредениям. Поэтому для определения числа интервалов воспользуемся эмпирическим правилом Стёрджеса. Тогда оптимальное количество интервалов для провекри критерия должно быть равно: \n",
    "\n",
    "$N = 1 + \\lfloor\\log_2 n\\rfloor$\n",
    "\n",
    "В таком случае воспользуемся следующей группировкой интервалов: разделим промежуток $[0;1]$ на $\\lfloor\\log_2 n\\rfloor + 1$ равных частей. Соответствующую определённому интервалу $[a_i;x_{a+1}]$ вероятность можно легко посчитать как $p_i = F(a_{i+1}) - F(a_{i})$.\n",
    "\n",
    "Далее определяем статистику хи-квадрат:\n",
    "\n",
    "$X^2_N = \\sum\\limits_{i = 1}^N \\frac{(v_i^{(n) - n p_i})^2}{n p_i} = \\frac 1n \\sum\\limits_{i = 1}^N \\frac{w_i^2}{p_i}, $где $w_i$ – отклонение от ожидаемой частоты встречи определённого элемента."
   ]
  },
  {
   "cell_type": "code",
   "execution_count": 589,
   "id": "d6f1941b",
   "metadata": {},
   "outputs": [],
   "source": [
    "def Erlang_prob(sample, interval, tetta):\n",
    "    distr = gamma(a=m, scale=1/tetta)\n",
    "    prob = []\n",
    "    for elem in sample:\n",
    "        if elem == len(interval):\n",
    "            prob.append(1 - distr.cdf(interval[elem - 1]))\n",
    "        else:\n",
    "            prob.append(distr.cdf(interval[elem]) - distr.cdf(interval[elem - 1]))\n",
    "    return np.array(prob)\n",
    "\n",
    "def chi_square_erlang(sample, n, tetta):\n",
    "    intervals_count = 1 + int(np.log2(len(sample)))\n",
    "    intervals_step = max(sample) / intervals_count\n",
    "    intervals_frame = []\n",
    "    for i in range(intervals_count+1):\n",
    "        intervals_frame.append(i * intervals_step)\n",
    "    count_dict = {}\n",
    "    for elem in sample:\n",
    "        for i in range(1, len(intervals_frame)):\n",
    "            if elem <= intervals_frame[i]:\n",
    "                break\n",
    "        if not i in count_dict.keys():\n",
    "            count_dict[i] = 1\n",
    "        else:\n",
    "            count_dict[i] += 1\n",
    "    for j in range(1, len(intervals_frame)+1):\n",
    "        if not j in count_dict.keys():\n",
    "            count_dict[j] = 0\n",
    "    element_vector = np.array(list(count_dict))\n",
    "    freq_vector = np.array(list(count_dict.values()))\n",
    "    prob = Erlang_prob(element_vector, intervals_frame, tetta)\n",
    "    expectation = n * prob\n",
    "    return np.sum(np.square(freq_vector - expectation) / expectation)"
   ]
  },
  {
   "cell_type": "code",
   "execution_count": 592,
   "id": "c306f470",
   "metadata": {
    "scrolled": true
   },
   "outputs": [
    {
     "name": "stdout",
     "output_type": "stream",
     "text": [
      "Проверка гипотезы о равенстве параметра tetta = 2.5 в распределении Эрланга\n",
      "\n",
      "Значение статистики для выборки из 5 элементов - 1.3020825079318796\n",
      "Значение для выборки из 5 элементов на уровне значимости 0.05 - 16.918977604620448\n",
      "Гипотезу не отвергать\n",
      "\n",
      "Значение статистики для выборки из 10 элементов - 1.2829057107999964\n",
      "Значение для выборки из 10 элементов на уровне значимости 0.05 - 16.918977604620448\n",
      "Гипотезу не отвергать\n",
      "\n",
      "Значение статистики для выборки из 100 элементов - 5.27487429644707\n",
      "Значение для выборки из 100 элементов на уровне значимости 0.05 - 16.918977604620448\n",
      "Гипотезу не отвергать\n",
      "\n",
      "Значение статистики для выборки из 200 элементов - 7.170506068116128\n",
      "Значение для выборки из 200 элементов на уровне значимости 0.05 - 16.918977604620448\n",
      "Гипотезу не отвергать\n",
      "\n",
      "Значение статистики для выборки из 400 элементов - 10.923586884465813\n",
      "Значение для выборки из 400 элементов на уровне значимости 0.05 - 16.918977604620448\n",
      "Гипотезу не отвергать\n",
      "\n",
      "Значение статистики для выборки из 600 элементов - 6.47701310737764\n",
      "Значение для выборки из 600 элементов на уровне значимости 0.05 - 16.918977604620448\n",
      "Гипотезу не отвергать\n",
      "\n",
      "Значение статистики для выборки из 800 элементов - 8.230101490269972\n",
      "Значение для выборки из 800 элементов на уровне значимости 0.05 - 16.918977604620448\n",
      "Гипотезу не отвергать\n",
      "\n",
      "Значение статистики для выборки из 1000 элементов - 24.906833207237593\n",
      "Значение для выборки из 1000 элементов на уровне значимости 0.05 - 16.918977604620448\n",
      "Гипотезу отвергнуть\n",
      "\n"
     ]
    }
   ],
   "source": [
    "from scipy.stats import chi2\n",
    "from scipy.stats import gamma\n",
    "alpha = 0.05\n",
    "tetta = 2.5\n",
    "m=6\n",
    "\n",
    "\n",
    "print(\"Проверка гипотезы о равенстве параметра tetta = {} в распределении Эрланга\".format(tetta))\n",
    "print()\n",
    "for elem in SampleErlang:\n",
    "    T_statistic = chi_square_erlang(elem, len(elem), tetta)\n",
    "    chi2_alpha = chi2.ppf(1-alpha, 1 + int(np.log2(len(sample)))-1)\n",
    "    print('Значение статистики для выборки из {} элементов -'.format(len(elem)), T_statistic)\n",
    "    print('Значение для выборки из {} элементов на уровне значимости {} -'.format(len(elem), alpha), chi2_alpha)\n",
    "    if T_statistic < chi2_alpha:\n",
    "        print(\"Гипотезу не отвергать\")\n",
    "    else:\n",
    "        print(\"Гипотезу отвергнуть\")\n",
    "    print()"
   ]
  },
  {
   "cell_type": "markdown",
   "id": "338d71ae",
   "metadata": {},
   "source": [
    "## Криетрий Колмогорова"
   ]
  },
  {
   "cell_type": "markdown",
   "id": "78c48937",
   "metadata": {},
   "source": [
    "Критерии Колмагорова-Сморнова применяются с тех случаях, когда функция F(x) непрерывна. Статистика\n",
    "критерия определяется формулой и представляет собой\n",
    "максимальное отклонение эмпирической функции распределения , построенной по выборке Х, от\n",
    "теоритической функции распределения F(x).\n",
    "Критерий согласия Колмагорова-Смирнова формулируется следующим образом: если и при выбранном\n",
    "уровне значимости число определено соотношением , где n ≥ 20\n",
    "α = 0.05 $число \\lambda_{\\alpha} = 1.36$ по таблице. \n",
    "По теореме Колмогорова для непрерывных функций распределения 𝐹 и\n",
    "при $n \\geq 20$:\n",
    "$$P(\\sqrt{n}D_{n}\\geq \\lambda_{\\alpha}|H_{0}) = 1 - K(\\lambda_{\\alpha}) = \\alpha$$\n",
    "Критерий формулируется следующим образом. Проверяем, выполняется ли неравенство: $\\sqrt{n}D_{n}\\geq \\lambda_{\\alpha}$ если да, то отвергаем гипотезу $H_{0}$"
   ]
  },
  {
   "cell_type": "code",
   "execution_count": 530,
   "id": "2e99c976",
   "metadata": {},
   "outputs": [],
   "source": [
    "import scipy"
   ]
  },
  {
   "cell_type": "code",
   "execution_count": 531,
   "id": "e3be11f7",
   "metadata": {},
   "outputs": [],
   "source": [
    "def d_func_f(sel_b):\n",
    "    t = np.linspace(0, 100, 1000)\n",
    "    diff = []\n",
    "    for i in t:\n",
    "        diff.append(abs(scipy.stats.erlang.cdf(a=6, scale=1/2.5, x=i) - emperfunction(sel_b, i)))\n",
    "    return  max(diff)"
   ]
  },
  {
   "cell_type": "code",
   "execution_count": 536,
   "id": "a23a04e3",
   "metadata": {},
   "outputs": [
    {
     "name": "stdout",
     "output_type": "stream",
     "text": [
      "0.665988803660107\n",
      "0.49695241660196\n",
      "0.7809555059926776\n",
      "0.8593100965356194\n",
      "0.698351189957912\n",
      "0.7499442952462523\n",
      "0.548840710257958\n",
      "0.9516905074678254\n"
     ]
    }
   ],
   "source": [
    "for i in SampleErlang:\n",
    "    print(math.sqrt(len(i))*d_func_f(i))"
   ]
  },
  {
   "cell_type": "markdown",
   "id": "2413ce69",
   "metadata": {},
   "source": [
    "В нашем случае гипотеза не отвергается, потому что полученные числа меньше 1.36"
   ]
  },
  {
   "cell_type": "markdown",
   "id": "f31956f1",
   "metadata": {},
   "source": [
    "### Для сложной гипотезы"
   ]
  },
  {
   "cell_type": "markdown",
   "id": "34180716",
   "metadata": {},
   "source": [
    "Основной алгоритм поиска $D_{n}$ аналогичен тому, что описано выше, только теперь необходимо оценить параметр $\\theta$ для этого воспольщуемся методом максимального правдоподобия, который описан выше в 3-й домашней работе."
   ]
  },
  {
   "cell_type": "code",
   "execution_count": 537,
   "id": "a6e30339",
   "metadata": {},
   "outputs": [],
   "source": [
    "def d_func_f_sl(sel_b,theta):\n",
    "    t = np.linspace(0, 100, 1000)\n",
    "    diff = []\n",
    "    for i in t:\n",
    "        diff.append(abs(scipy.stats.erlang.cdf(a=6, scale=1/theta, x=i) - emperfunction(sel_b, i)))\n",
    "    return  max(diff)"
   ]
  },
  {
   "cell_type": "code",
   "execution_count": 540,
   "id": "afa2ac48",
   "metadata": {},
   "outputs": [
    {
     "name": "stdout",
     "output_type": "stream",
     "text": [
      "0.24718725840905786\n",
      "0.15532423412003726\n",
      "0.042310680540391665\n",
      "0.050823157216771525\n",
      "0.042437966245497394\n",
      "0.0254696277510022\n",
      "0.014875269961774018\n",
      "0.01815992926690152\n"
     ]
    }
   ],
   "source": [
    "for i in SampleErlang:\n",
    "    th_m=len(i)*6/sum(i)\n",
    "    print(d_func_f_sl(i,th_m))"
   ]
  },
  {
   "cell_type": "markdown",
   "id": "9205ece7",
   "metadata": {},
   "source": [
    "## Проверка гипотезы об однородности выборок\n"
   ]
  },
  {
   "cell_type": "markdown",
   "id": "3139aa5c",
   "metadata": {},
   "source": [
    "#### Критерий однородности смирнова."
   ]
  },
  {
   "cell_type": "markdown",
   "id": "0beeca22",
   "metadata": {},
   "source": [
    "Рассмотрим статистику $D_{n,m} = sup|\\hat F_{n} - \\hat F_{m}|$,(из пункта 2.2) где $\\hat F_{n}, \\hat F_{m}$ - \n",
    "эмппирические функции распределения по первой и второй выборке соответственно. \n",
    "По теореме Смирнова статистика вида: $\\sqrt{\\frac{n\\cdot m}{n + m}} D_{n,m}$ - имеет распределение Колмогорова.\n",
    "В таком случае получаем, что мы отвергаем гипотезу $H_{0}$, если $D_{n,m} > \\lambda_\\alpha \\sqrt{\\frac 1n + \\frac 1m}\\\\ $\n",
    "способ нахождения $D_{n,m}$:\n",
    "\n",
    "$D^+_{n,m} = max|\\frac k m - \\hat F_{n}(Y_{(k)})| = max |\\hat F_{m}(X_{(k)}) \\frac {k-1} n|$\n",
    "\n",
    "$D^-_{n,m} = max |\\hat F_{n}(Y_{(k)}) \\frac {k-1} m| = max|\\frac k n - \\hat F_{m}(X_{(k)})|$\n",
    "\n",
    "Тогда $D_{n,m} = max(D^+_{n,m}, D^-_{n,m})$."
   ]
  },
  {
   "cell_type": "code",
   "execution_count": 548,
   "id": "6fa4472b",
   "metadata": {},
   "outputs": [],
   "source": [
    "def ECDF(sample):\n",
    "    counts = []\n",
    "    sample_set = np.sort(list(set(sample)))\n",
    "    sample = np.sort(sample)\n",
    "    for el in sample_set:\n",
    "        counts.append(np.count_nonzero(sample == el))\n",
    "    def result(v):\n",
    "        s = 0\n",
    "        i = 0\n",
    "        for i in range(len(sample_set)):\n",
    "            if (v < sample_set[i]):\n",
    "                break\n",
    "            s += counts[i]\n",
    "        return s / sample.size\n",
    "    return result\n",
    "def compareSmirnov(samp_a, samp_b):\n",
    "    samp_a = np.sort(list(samp_a))\n",
    "    samp_b = np.sort(list(samp_b))\n",
    "    n = len(samp_a)\n",
    "    m = len(samp_b)\n",
    "    dev1 = []\n",
    "    dev2 = []\n",
    "    F1 = ECDF(samp_a)\n",
    "    F2 = ECDF(samp_b)\n",
    "    for k in range(m):\n",
    "        dev1.append(abs((k+1)/m - F1(samp_b[k])))\n",
    "    for k in range(n):\n",
    "        dev2.append(abs((k+1)/n - F2(samp_a[k])))\n",
    "    return max(max(dev1), max(dev2))*sqrt(n*m/(n+m))"
   ]
  },
  {
   "cell_type": "code",
   "execution_count": 556,
   "id": "55713485",
   "metadata": {},
   "outputs": [
    {
     "name": "stdout",
     "output_type": "stream",
     "text": [
      "Статистика Смирнова для выборок размера 5,5: 0.0\n",
      "lambda = 1.36, Разница:1.36\n",
      "Статистика Смирнова для выборок размера 5,10: 0.5477225575051662\n",
      "lambda = 1.36, Разница:0.8122774424948339\n",
      "Статистика Смирнова для выборок размера 5,100: 0.8510497719203702\n",
      "lambda = 1.36, Разница:0.5089502280796299\n",
      "Статистика Смирнова для выборок размера 5,200: 0.6736323090565639\n",
      "lambda = 1.36, Разница:0.6863676909434362\n",
      "Статистика Смирнова для выборок размера 5,400: 0.6833333333333333\n",
      "lambda = 1.36, Разница:0.6766666666666667\n",
      "Статистика Смирнова для выборок размера 5,600: 0.7200015304544493\n",
      "lambda = 1.36, Разница:0.6399984695455508\n",
      "Статистика Смирнова для выборок размера 5,800: 0.7077433299706981\n",
      "lambda = 1.36, Разница:0.652256670029302\n",
      "Статистика Смирнова для выборок размера 5,1000: 0.6803020985368424\n",
      "lambda = 1.36, Разница:0.6796979014631577\n",
      "Статистика Смирнова для выборок размера 10,5: 0.5477225575051662\n",
      "lambda = 1.36, Разница:0.8122774424948339\n",
      "Статистика Смирнова для выборок размера 10,10: 0.0\n",
      "lambda = 1.36, Разница:1.36\n",
      "Статистика Смирнова для выборок размера 10,100: 0.5427204202399746\n",
      "lambda = 1.36, Разница:0.8172795797600255\n",
      "Статистика Смирнова для выборок размера 10,200: 0.6326437348445768\n",
      "lambda = 1.36, Разница:0.7273562651554233\n",
      "Статистика Смирнова для выборок размера 10,400: 0.6090776713655637\n",
      "lambda = 1.36, Разница:0.7509223286344364\n",
      "Статистика Смирнова для выборок размера 10,600: 0.6011146295127141\n",
      "lambda = 1.36, Разница:0.758885370487286\n",
      "Статистика Смирнова для выборок размера 10,800: 0.5892556509887896\n",
      "lambda = 1.36, Разница:0.7707443490112105\n",
      "Статистика Смирнова для выборок размера 10,1000: 0.6009975206288127\n",
      "lambda = 1.36, Разница:0.7590024793711874\n",
      "Статистика Смирнова для выборок размера 100,5: 0.8510497719203702\n",
      "lambda = 1.36, Разница:0.5089502280796299\n",
      "Статистика Смирнова для выборок размера 100,10: 0.5427204202399746\n",
      "lambda = 1.36, Разница:0.8172795797600255\n",
      "Статистика Смирнова для выборок размера 100,100: 0.0\n",
      "lambda = 1.36, Разница:1.36\n",
      "Статистика Смирнова для выборок размера 100,200: 0.8981462390204988\n",
      "lambda = 1.36, Разница:0.46185376097950126\n",
      "Статистика Смирнова для выборок размера 100,400: 1.0062305898749053\n",
      "lambda = 1.36, Разница:0.3537694101250948\n",
      "Статистика Смирнова для выборок размера 100,600: 0.7097954098256227\n",
      "lambda = 1.36, Разница:0.6502045901743774\n",
      "Статистика Смирнова для выборок размера 100,800: 1.025304832720494\n",
      "lambda = 1.36, Разница:0.334695167279506\n",
      "Статистика Смирнова для выборок размера 100,1000: 1.0011357187078718\n",
      "lambda = 1.36, Разница:0.35886428129212833\n",
      "Статистика Смирнова для выборок размера 200,5: 0.6736323090565639\n",
      "lambda = 1.36, Разница:0.6863676909434362\n",
      "Статистика Смирнова для выборок размера 200,10: 0.6326437348445768\n",
      "lambda = 1.36, Разница:0.7273562651554233\n",
      "Статистика Смирнова для выборок размера 200,100: 0.8981462390204988\n",
      "lambda = 1.36, Разница:0.46185376097950126\n",
      "Статистика Смирнова для выборок размера 200,200: 0.0\n",
      "lambda = 1.36, Разница:1.36\n",
      "Статистика Смирнова для выборок размера 200,400: 0.5773502691896251\n",
      "lambda = 1.36, Разница:0.782649730810375\n",
      "Статистика Смирнова для выборок размера 200,600: 0.8164965809277258\n",
      "lambda = 1.36, Разница:0.5435034190722743\n",
      "Статистика Смирнова для выборок размера 200,800: 0.869626356546304\n",
      "lambda = 1.36, Разница:0.49037364345369605\n",
      "Статистика Смирнова для выборок размера 200,1000: 0.6196773353931865\n",
      "lambda = 1.36, Разница:0.7403226646068136\n",
      "Статистика Смирнова для выборок размера 400,5: 0.6833333333333333\n",
      "lambda = 1.36, Разница:0.6766666666666667\n",
      "Статистика Смирнова для выборок размера 400,10: 0.6090776713655637\n",
      "lambda = 1.36, Разница:0.7509223286344364\n",
      "Статистика Смирнова для выборок размера 400,100: 1.0062305898749053\n",
      "lambda = 1.36, Разница:0.3537694101250948\n",
      "Статистика Смирнова для выборок размера 400,200: 0.5773502691896251\n",
      "lambda = 1.36, Разница:0.782649730810375\n",
      "Статистика Смирнова для выборок размера 400,400: 0.0\n",
      "lambda = 1.36, Разница:1.36\n",
      "Статистика Смирнова для выборок размера 400,600: 0.8778762251403475\n",
      "lambda = 1.36, Разница:0.48212377485965263\n",
      "Статистика Смирнова для выборок размера 400,800: 0.6940220937885668\n",
      "lambda = 1.36, Разница:0.6659779062114333\n",
      "Статистика Смирнова для выборок размера 400,1000: 0.7099295739719547\n",
      "lambda = 1.36, Разница:0.6500704260280454\n",
      "Статистика Смирнова для выборок размера 600,5: 0.7200015304544493\n",
      "lambda = 1.36, Разница:0.6399984695455508\n",
      "Статистика Смирнова для выборок размера 600,10: 0.6011146295127141\n",
      "lambda = 1.36, Разница:0.758885370487286\n",
      "Статистика Смирнова для выборок размера 600,100: 0.7097954098256227\n",
      "lambda = 1.36, Разница:0.6502045901743774\n",
      "Статистика Смирнова для выборок размера 600,200: 0.8164965809277258\n",
      "lambda = 1.36, Разница:0.5435034190722743\n",
      "Статистика Смирнова для выборок размера 600,400: 0.8778762251403475\n",
      "lambda = 1.36, Разница:0.48212377485965263\n",
      "Статистика Смирнова для выборок размера 600,600: 0.0\n",
      "lambda = 1.36, Разница:1.36\n",
      "Статистика Смирнова для выборок размера 600,800: 0.8178077547990855\n",
      "lambda = 1.36, Разница:0.5421922452009146\n",
      "Статистика Смирнова для выборок размера 600,1000: 0.9747008087955333\n",
      "lambda = 1.36, Разница:0.38529919120446676\n",
      "Статистика Смирнова для выборок размера 800,5: 0.7077433299706981\n",
      "lambda = 1.36, Разница:0.652256670029302\n",
      "Статистика Смирнова для выборок размера 800,10: 0.5892556509887896\n",
      "lambda = 1.36, Разница:0.7707443490112105\n",
      "Статистика Смирнова для выборок размера 800,100: 1.025304832720494\n",
      "lambda = 1.36, Разница:0.334695167279506\n",
      "Статистика Смирнова для выборок размера 800,200: 0.869626356546304\n",
      "lambda = 1.36, Разница:0.49037364345369605\n",
      "Статистика Смирнова для выборок размера 800,400: 0.6940220937885668\n",
      "lambda = 1.36, Разница:0.6659779062114333\n",
      "Статистика Смирнова для выборок размера 800,600: 0.8178077547990855\n",
      "lambda = 1.36, Разница:0.5421922452009146\n",
      "Статистика Смирнова для выборок размера 800,800: 0.0\n",
      "lambda = 1.36, Разница:1.36\n",
      "Статистика Смирнова для выборок размера 800,1000: 0.8485445054785152\n",
      "lambda = 1.36, Разница:0.5114554945214849\n",
      "Статистика Смирнова для выборок размера 1000,5: 0.6803020985368424\n",
      "lambda = 1.36, Разница:0.6796979014631577\n",
      "Статистика Смирнова для выборок размера 1000,10: 0.6009975206288127\n",
      "lambda = 1.36, Разница:0.7590024793711874\n",
      "Статистика Смирнова для выборок размера 1000,100: 1.0011357187078718\n",
      "lambda = 1.36, Разница:0.35886428129212833\n",
      "Статистика Смирнова для выборок размера 1000,200: 0.6196773353931865\n",
      "lambda = 1.36, Разница:0.7403226646068136\n",
      "Статистика Смирнова для выборок размера 1000,400: 0.7099295739719547\n",
      "lambda = 1.36, Разница:0.6500704260280454\n",
      "Статистика Смирнова для выборок размера 1000,600: 0.9747008087955333\n",
      "lambda = 1.36, Разница:0.38529919120446676\n",
      "Статистика Смирнова для выборок размера 1000,800: 0.8485445054785152\n",
      "lambda = 1.36, Разница:0.5114554945214849\n",
      "Статистика Смирнова для выборок размера 1000,1000: 0.0\n",
      "lambda = 1.36, Разница:1.36\n"
     ]
    }
   ],
   "source": [
    "Smirnov = []\n",
    "for i in SampleErlang:\n",
    "    for j in SampleErlang:\n",
    "        st = compareSmirnov(i,j)\n",
    "        print(f'Статистика Смирнова для выборок размера {len(i)},{len(j)}: {st}')\n",
    "        print(f'lambda = 1.36, Разница:{1.36-st}')\n",
    "        "
   ]
  },
  {
   "cell_type": "markdown",
   "id": "a1679ffe",
   "metadata": {},
   "source": [
    "# Домашнее задание 5"
   ]
  },
  {
   "cell_type": "markdown",
   "id": "3bcb2776",
   "metadata": {},
   "source": [
    "## Дискретное распределение"
   ]
  },
  {
   "cell_type": "markdown",
   "id": "f6def702",
   "metadata": {},
   "source": [
    "У нас есть 2 выборки с неизвестными параметрами $\\theta_{1} = 0.6, \\theta_{2} = 0.7$. Выдвинем две гипотезы $H_{1} и H_{2}$. Гипотеза $H_{1}$ - основная, $H_{2}$ - альтернативная.\n",
    "$$H_{0}: x ~ Bin(61,0.6) \\\\\n",
    "H_{1}: x ~ Bin(61,0.7)  $$\n",
    "Мы рассматриваем две простые гипотезы, в этом случае вводятся понятия ошибки первого и второго рода.\n",
    "\n",
    "$P(𝑋 \\in X_1|𝐻_0)$ = $\\alpha$ — ошибка 1 рода – отвергаем истину;\n",
    "\n",
    "$P(𝑋 \\in X_0|𝐻_1)$ = $\\beta$ — ошибка 2 рода – принимаем истину за ложь.\n",
    "#### Вычисление функции отношения правдоподобия\n",
    "\n",
    "$l( x) = \\frac{L(x, \\theta_1)}{L(x, \\theta_0)} = \\frac{\\prod\\limits_{i = 1}^N \\binom{n}{x}\\theta_{1}^{x}(1-\\theta_{1})^{(n-x)}}{\\prod\\limits_{i = 1}^N \\binom{n}{x}\\theta_{0}^{x}(1-\\theta_{0})^{(n-x)}} = \\frac{\\binom{n}{x}\\theta^{x}(1-\\theta)^{n-x}}{\\binom{n}{x}\\theta^{x}(1-\\theta)^{n-x}}$\n",
    "####  Критической области\n",
    "Критической областью называется такое множество $\\Omega_{1,\\alpha} =${$\\overline x\\in \\Omega;l(\\overline x) \\geq c_{\\alpha}$}, ult $c_{\\alpha}$ - некоторая константа для заданного уровня значимости. Попадая в критическую\n",
    "область, будем выбирать гипотезу $H_{1}$\n",
    "#### Лема Неймана-Пирсона\n",
    "$$\n",
    "\\forall \\alpha \\exists c_{\\alpha}: \\chi(c_{\\alpha}) = P(l(\\overline x) \\geq c_{\\alpha})\n",
    "$$\n",
    "Пусть $\\alpha = 0.05$ тогда:\n",
    "$$ P(\\frac{\\ln \\binom{n}{x} + x\\ln \\theta_{1} + (n-x)\\ln(1-\\theta_{1})}{\\ln \\binom{n}{x} + x\\ln \\theta_{0} + (n-x)\\ln(1-\\theta_{0})} \\geq \\ln c_{\\alpha}) = 0.05 \\\\ P(\\overline x \\ln \\frac{\\theta_{1}}{\\theta_{0}} +(n-\\overline x) \\ln \\frac{1-\\theta_{1}}{1-\\theta_{0}} \\geq \\ln c) = 0.05 \\\\ P(\\overline x(\\ln \\frac{\\theta_{1}}{\\theta_{0}} - \\ln \\frac{1-\\theta_{1}}{1-\\theta_{0}} + mn \\ln \\frac{1-\\theta_{1}}{1-\\theta_{0}} \\geq 0)) =0.05 \\\\\n",
    "P(\\frac{\\overline x}{m} \\geq -\\ln(\\frac{1-\\theta_{1}}{1-\\theta_{0}})\\frac{n}{\\ln \\frac{\\theta_{1}}{\\theta_{0}}-\\ln \\frac{1-\\theta_{1}}{1-\\theta_{0}}} ) = 0.05$$"
   ]
  },
  {
   "cell_type": "code",
   "execution_count": 585,
   "id": "3c556a63",
   "metadata": {},
   "outputs": [],
   "source": [
    "c_a =-1*math.log((1-0.7)/(1-0.6))*61/(math.log(0.7/0.6)-math.log((1-0.7)/(1-0.6)))"
   ]
  },
  {
   "cell_type": "code",
   "execution_count": 586,
   "id": "7529a29f",
   "metadata": {},
   "outputs": [
    {
     "name": "stdout",
     "output_type": "stream",
     "text": [
      "Выбирае основную гипотезу\n",
      "Выбирае основную гипотезу\n",
      "Выбирае основную гипотезу\n",
      "Выбирае основную гипотезу\n",
      "Выбирае основную гипотезу\n",
      "Выбирае основную гипотезу\n",
      "Выбирае основную гипотезу\n",
      "Выбирае основную гипотезу\n"
     ]
    }
   ],
   "source": [
    "for i in SampleBiom:\n",
    "    if(np.mean(i)<c_a):\n",
    "        print('Выбирае основную гипотезу')\n",
    "    else:\n",
    "        print('Выбирае альтернативную гипотезу')"
   ]
  },
  {
   "cell_type": "code",
   "execution_count": 588,
   "id": "0a4ef781",
   "metadata": {},
   "outputs": [
    {
     "name": "stdout",
     "output_type": "stream",
     "text": [
      "Выбирае альтернативную гипотезу\n"
     ]
    }
   ],
   "source": [
    "if(np.mean(binomial_destr_r(61,0.7,1000))>c_a):\n",
    "    print('Выбирае альтернативную гипотезу')"
   ]
  },
  {
   "cell_type": "code",
   "execution_count": 597,
   "id": "a79a8980",
   "metadata": {},
   "outputs": [
    {
     "data": {
      "text/plain": [
       "0.02143437499999999"
      ]
     },
     "execution_count": 597,
     "metadata": {},
     "output_type": "execute_result"
    }
   ],
   "source": [
    "sts.binom.pmf(2,5,0.05)"
   ]
  },
  {
   "cell_type": "code",
   "execution_count": null,
   "id": "21ba8476",
   "metadata": {},
   "outputs": [],
   "source": []
  }
 ],
 "metadata": {
  "kernelspec": {
   "display_name": "Python 3 (ipykernel)",
   "language": "python",
   "name": "python3"
  },
  "language_info": {
   "codemirror_mode": {
    "name": "ipython",
    "version": 3
   },
   "file_extension": ".py",
   "mimetype": "text/x-python",
   "name": "python",
   "nbconvert_exporter": "python",
   "pygments_lexer": "ipython3",
   "version": "3.8.3"
  }
 },
 "nbformat": 4,
 "nbformat_minor": 5
}
